{
 "cells": [
  {
   "cell_type": "code",
   "execution_count": 42,
   "metadata": {},
   "outputs": [],
   "source": [
    "import matplotlib.pyplot as plt\n",
    "import numpy as np\n",
    "import pandas as pd\n",
    "from sklearn.model_selection import train_test_split"
   ]
  },
  {
   "cell_type": "code",
   "execution_count": 2,
   "metadata": {},
   "outputs": [],
   "source": [
    "path_to_csv = \"kdd.txt\"\n",
    "\n",
    "df = pd.read_csv(path_to_csv, header = None)"
   ]
  },
  {
   "cell_type": "markdown",
   "metadata": {},
   "source": [
    "# 1. Clean data with Panda"
   ]
  },
  {
   "cell_type": "code",
   "execution_count": 3,
   "metadata": {},
   "outputs": [],
   "source": [
    "df.rename(columns={0: 'duration', \n",
    "                   1: 'protocol_type',\n",
    "                   2: 'service', \n",
    "                   3: 'flag',\n",
    "                   4: 'src_bytes',\n",
    "                   5: 'dst_bytes',\n",
    "                   6: 'land',\n",
    "                   7: 'wrong_fragment',\n",
    "                   8: 'urgent',\n",
    "                   9: 'hot',\n",
    "                   10: 'num_failed_logins',\n",
    "                   11: 'logged_in',\n",
    "                   12: 'num_compromised',\n",
    "                   13: 'root_shell',\n",
    "                   14: 'su_attempted',\n",
    "                   15: 'num_root',\n",
    "                   16: 'num_file_creations',\n",
    "                   17: 'num_shells',\n",
    "                   18: 'num_access_files',\n",
    "                   19: 'num_outbound_cmds',\n",
    "                   20: 'is_host_login',\n",
    "                   21: 'is_guest_login',\n",
    "                   22: 'count',\n",
    "                   23: 'srv_count',\n",
    "                   24: 'serror_rate',\n",
    "                   25: 'srv_serror_rate',\n",
    "                   26: 'rerror_rate',\n",
    "                   27: 'srv_rerror_rate',\n",
    "                   28: 'same_srv_rate',\n",
    "                   29: 'diff_srv_rate',\n",
    "                   30: 'srv_diff_host_rate',\n",
    "                   31: 'dst_host_count',\n",
    "                   32: 'dst_host_srv_count',\n",
    "                   33: 'dst_host_same_srv_rate',\n",
    "                   34: 'dst_host_diff_srv_rate',\n",
    "                   35: 'dst_host_same_src_port_rate',\n",
    "                   36: 'dst_host_srv_diff_host_rate',\n",
    "                   37: 'dst_host_serror_rate',\n",
    "                   38: 'dst_host_srv_serror_rate',\n",
    "                   39: 'dst_host_rerror_rate',\n",
    "                   40: 'dst_host_srv_rerror_rate',\n",
    "                   41: 'type'\n",
    "                  }, inplace=True)"
   ]
  },
  {
   "cell_type": "code",
   "execution_count": 4,
   "metadata": {},
   "outputs": [
    {
     "data": {
      "text/html": [
       "<div>\n",
       "<style scoped>\n",
       "    .dataframe tbody tr th:only-of-type {\n",
       "        vertical-align: middle;\n",
       "    }\n",
       "\n",
       "    .dataframe tbody tr th {\n",
       "        vertical-align: top;\n",
       "    }\n",
       "\n",
       "    .dataframe thead th {\n",
       "        text-align: right;\n",
       "    }\n",
       "</style>\n",
       "<table border=\"1\" class=\"dataframe\">\n",
       "  <thead>\n",
       "    <tr style=\"text-align: right;\">\n",
       "      <th></th>\n",
       "      <th>duration</th>\n",
       "      <th>protocol_type</th>\n",
       "      <th>service</th>\n",
       "      <th>flag</th>\n",
       "      <th>src_bytes</th>\n",
       "      <th>dst_bytes</th>\n",
       "      <th>land</th>\n",
       "      <th>wrong_fragment</th>\n",
       "      <th>urgent</th>\n",
       "      <th>hot</th>\n",
       "      <th>...</th>\n",
       "      <th>dst_host_srv_count</th>\n",
       "      <th>dst_host_same_srv_rate</th>\n",
       "      <th>dst_host_diff_srv_rate</th>\n",
       "      <th>dst_host_same_src_port_rate</th>\n",
       "      <th>dst_host_srv_diff_host_rate</th>\n",
       "      <th>dst_host_serror_rate</th>\n",
       "      <th>dst_host_srv_serror_rate</th>\n",
       "      <th>dst_host_rerror_rate</th>\n",
       "      <th>dst_host_srv_rerror_rate</th>\n",
       "      <th>type</th>\n",
       "    </tr>\n",
       "  </thead>\n",
       "  <tbody>\n",
       "    <tr>\n",
       "      <th>0</th>\n",
       "      <td>0</td>\n",
       "      <td>tcp</td>\n",
       "      <td>http</td>\n",
       "      <td>SF</td>\n",
       "      <td>181</td>\n",
       "      <td>5450</td>\n",
       "      <td>0</td>\n",
       "      <td>0</td>\n",
       "      <td>0</td>\n",
       "      <td>0</td>\n",
       "      <td>...</td>\n",
       "      <td>9</td>\n",
       "      <td>1.0</td>\n",
       "      <td>0.0</td>\n",
       "      <td>0.11</td>\n",
       "      <td>0.0</td>\n",
       "      <td>0.0</td>\n",
       "      <td>0.0</td>\n",
       "      <td>0.0</td>\n",
       "      <td>0.0</td>\n",
       "      <td>normal.</td>\n",
       "    </tr>\n",
       "    <tr>\n",
       "      <th>1</th>\n",
       "      <td>0</td>\n",
       "      <td>tcp</td>\n",
       "      <td>http</td>\n",
       "      <td>SF</td>\n",
       "      <td>239</td>\n",
       "      <td>486</td>\n",
       "      <td>0</td>\n",
       "      <td>0</td>\n",
       "      <td>0</td>\n",
       "      <td>0</td>\n",
       "      <td>...</td>\n",
       "      <td>19</td>\n",
       "      <td>1.0</td>\n",
       "      <td>0.0</td>\n",
       "      <td>0.05</td>\n",
       "      <td>0.0</td>\n",
       "      <td>0.0</td>\n",
       "      <td>0.0</td>\n",
       "      <td>0.0</td>\n",
       "      <td>0.0</td>\n",
       "      <td>normal.</td>\n",
       "    </tr>\n",
       "    <tr>\n",
       "      <th>2</th>\n",
       "      <td>0</td>\n",
       "      <td>tcp</td>\n",
       "      <td>http</td>\n",
       "      <td>SF</td>\n",
       "      <td>235</td>\n",
       "      <td>1337</td>\n",
       "      <td>0</td>\n",
       "      <td>0</td>\n",
       "      <td>0</td>\n",
       "      <td>0</td>\n",
       "      <td>...</td>\n",
       "      <td>29</td>\n",
       "      <td>1.0</td>\n",
       "      <td>0.0</td>\n",
       "      <td>0.03</td>\n",
       "      <td>0.0</td>\n",
       "      <td>0.0</td>\n",
       "      <td>0.0</td>\n",
       "      <td>0.0</td>\n",
       "      <td>0.0</td>\n",
       "      <td>normal.</td>\n",
       "    </tr>\n",
       "    <tr>\n",
       "      <th>3</th>\n",
       "      <td>0</td>\n",
       "      <td>tcp</td>\n",
       "      <td>http</td>\n",
       "      <td>SF</td>\n",
       "      <td>219</td>\n",
       "      <td>1337</td>\n",
       "      <td>0</td>\n",
       "      <td>0</td>\n",
       "      <td>0</td>\n",
       "      <td>0</td>\n",
       "      <td>...</td>\n",
       "      <td>39</td>\n",
       "      <td>1.0</td>\n",
       "      <td>0.0</td>\n",
       "      <td>0.03</td>\n",
       "      <td>0.0</td>\n",
       "      <td>0.0</td>\n",
       "      <td>0.0</td>\n",
       "      <td>0.0</td>\n",
       "      <td>0.0</td>\n",
       "      <td>normal.</td>\n",
       "    </tr>\n",
       "    <tr>\n",
       "      <th>4</th>\n",
       "      <td>0</td>\n",
       "      <td>tcp</td>\n",
       "      <td>http</td>\n",
       "      <td>SF</td>\n",
       "      <td>217</td>\n",
       "      <td>2032</td>\n",
       "      <td>0</td>\n",
       "      <td>0</td>\n",
       "      <td>0</td>\n",
       "      <td>0</td>\n",
       "      <td>...</td>\n",
       "      <td>49</td>\n",
       "      <td>1.0</td>\n",
       "      <td>0.0</td>\n",
       "      <td>0.02</td>\n",
       "      <td>0.0</td>\n",
       "      <td>0.0</td>\n",
       "      <td>0.0</td>\n",
       "      <td>0.0</td>\n",
       "      <td>0.0</td>\n",
       "      <td>normal.</td>\n",
       "    </tr>\n",
       "  </tbody>\n",
       "</table>\n",
       "<p>5 rows × 42 columns</p>\n",
       "</div>"
      ],
      "text/plain": [
       "   duration protocol_type service flag  src_bytes  dst_bytes  land  \\\n",
       "0         0           tcp    http   SF        181       5450     0   \n",
       "1         0           tcp    http   SF        239        486     0   \n",
       "2         0           tcp    http   SF        235       1337     0   \n",
       "3         0           tcp    http   SF        219       1337     0   \n",
       "4         0           tcp    http   SF        217       2032     0   \n",
       "\n",
       "   wrong_fragment  urgent  hot   ...     dst_host_srv_count  \\\n",
       "0               0       0    0   ...                      9   \n",
       "1               0       0    0   ...                     19   \n",
       "2               0       0    0   ...                     29   \n",
       "3               0       0    0   ...                     39   \n",
       "4               0       0    0   ...                     49   \n",
       "\n",
       "   dst_host_same_srv_rate  dst_host_diff_srv_rate  \\\n",
       "0                     1.0                     0.0   \n",
       "1                     1.0                     0.0   \n",
       "2                     1.0                     0.0   \n",
       "3                     1.0                     0.0   \n",
       "4                     1.0                     0.0   \n",
       "\n",
       "   dst_host_same_src_port_rate  dst_host_srv_diff_host_rate  \\\n",
       "0                         0.11                          0.0   \n",
       "1                         0.05                          0.0   \n",
       "2                         0.03                          0.0   \n",
       "3                         0.03                          0.0   \n",
       "4                         0.02                          0.0   \n",
       "\n",
       "   dst_host_serror_rate  dst_host_srv_serror_rate  dst_host_rerror_rate  \\\n",
       "0                   0.0                       0.0                   0.0   \n",
       "1                   0.0                       0.0                   0.0   \n",
       "2                   0.0                       0.0                   0.0   \n",
       "3                   0.0                       0.0                   0.0   \n",
       "4                   0.0                       0.0                   0.0   \n",
       "\n",
       "   dst_host_srv_rerror_rate     type  \n",
       "0                       0.0  normal.  \n",
       "1                       0.0  normal.  \n",
       "2                       0.0  normal.  \n",
       "3                       0.0  normal.  \n",
       "4                       0.0  normal.  \n",
       "\n",
       "[5 rows x 42 columns]"
      ]
     },
     "execution_count": 4,
     "metadata": {},
     "output_type": "execute_result"
    }
   ],
   "source": [
    "df.head()"
   ]
  },
  {
   "cell_type": "code",
   "execution_count": 5,
   "metadata": {},
   "outputs": [],
   "source": [
    "group_by = df.groupby(['type']).size().reset_index(name='counts')"
   ]
  },
  {
   "cell_type": "code",
   "execution_count": 6,
   "metadata": {},
   "outputs": [],
   "source": [
    "n_groups = df['type'].nunique()"
   ]
  },
  {
   "cell_type": "code",
   "execution_count": 7,
   "metadata": {},
   "outputs": [
    {
     "data": {
      "text/plain": [
       "duration                         int64\n",
       "protocol_type                   object\n",
       "service                         object\n",
       "flag                            object\n",
       "src_bytes                        int64\n",
       "dst_bytes                        int64\n",
       "land                             int64\n",
       "wrong_fragment                   int64\n",
       "urgent                           int64\n",
       "hot                              int64\n",
       "num_failed_logins                int64\n",
       "logged_in                        int64\n",
       "num_compromised                  int64\n",
       "root_shell                       int64\n",
       "su_attempted                     int64\n",
       "num_root                         int64\n",
       "num_file_creations               int64\n",
       "num_shells                       int64\n",
       "num_access_files                 int64\n",
       "num_outbound_cmds                int64\n",
       "is_host_login                    int64\n",
       "is_guest_login                   int64\n",
       "count                            int64\n",
       "srv_count                        int64\n",
       "serror_rate                    float64\n",
       "srv_serror_rate                float64\n",
       "rerror_rate                    float64\n",
       "srv_rerror_rate                float64\n",
       "same_srv_rate                  float64\n",
       "diff_srv_rate                  float64\n",
       "srv_diff_host_rate             float64\n",
       "dst_host_count                   int64\n",
       "dst_host_srv_count               int64\n",
       "dst_host_same_srv_rate         float64\n",
       "dst_host_diff_srv_rate         float64\n",
       "dst_host_same_src_port_rate    float64\n",
       "dst_host_srv_diff_host_rate    float64\n",
       "dst_host_serror_rate           float64\n",
       "dst_host_srv_serror_rate       float64\n",
       "dst_host_rerror_rate           float64\n",
       "dst_host_srv_rerror_rate       float64\n",
       "type                            object\n",
       "dtype: object"
      ]
     },
     "execution_count": 7,
     "metadata": {},
     "output_type": "execute_result"
    }
   ],
   "source": [
    "df.dtypes"
   ]
  },
  {
   "cell_type": "markdown",
   "metadata": {},
   "source": [
    "# 2. Visualize data with Matplotlib"
   ]
  },
  {
   "cell_type": "code",
   "execution_count": 8,
   "metadata": {},
   "outputs": [
    {
     "data": {
      "image/png": "[encoded data removed]",
      "text/plain": [
       "<Figure size 1080x720 with 1 Axes>"
      ]
     },
     "metadata": {},
     "output_type": "display_data"
    }
   ],
   "source": [
    "types = group_by['type']\n",
    "count_by_type = group_by['counts']\n",
    "\n",
    "y_pos = np.arange(len(types))\n",
    "\n",
    "plt.figure(figsize=(15,10))\n",
    "    \n",
    "plt.barh(y_pos, count_by_type, align='center', alpha=0.5)\n",
    "plt.yticks(y_pos, types)\n",
    "plt.title('Connexion types repartition')\n",
    " \n",
    "plt.show()"
   ]
  },
  {
   "cell_type": "code",
   "execution_count": null,
   "metadata": {},
   "outputs": [],
   "source": []
  },
  {
   "cell_type": "markdown",
   "metadata": {},
   "source": [
    "# 3. Modelisation"
   ]
  },
  {
   "cell_type": "markdown",
   "metadata": {},
   "source": [
    "Verification qu'il n'y a aucune valeur null ou na"
   ]
  },
  {
   "cell_type": "code",
   "execution_count": 9,
   "metadata": {},
   "outputs": [
    {
     "data": {
      "text/html": [
       "<div>\n",
       "<style scoped>\n",
       "    .dataframe tbody tr th:only-of-type {\n",
       "        vertical-align: middle;\n",
       "    }\n",
       "\n",
       "    .dataframe tbody tr th {\n",
       "        vertical-align: top;\n",
       "    }\n",
       "\n",
       "    .dataframe thead th {\n",
       "        text-align: right;\n",
       "    }\n",
       "</style>\n",
       "<table border=\"1\" class=\"dataframe\">\n",
       "  <thead>\n",
       "    <tr style=\"text-align: right;\">\n",
       "      <th></th>\n",
       "      <th>nb_NA</th>\n",
       "      <th>nb_NULL</th>\n",
       "    </tr>\n",
       "  </thead>\n",
       "  <tbody>\n",
       "    <tr>\n",
       "      <th>duration</th>\n",
       "      <td>0</td>\n",
       "      <td>0</td>\n",
       "    </tr>\n",
       "    <tr>\n",
       "      <th>protocol_type</th>\n",
       "      <td>0</td>\n",
       "      <td>0</td>\n",
       "    </tr>\n",
       "    <tr>\n",
       "      <th>service</th>\n",
       "      <td>0</td>\n",
       "      <td>0</td>\n",
       "    </tr>\n",
       "    <tr>\n",
       "      <th>flag</th>\n",
       "      <td>0</td>\n",
       "      <td>0</td>\n",
       "    </tr>\n",
       "    <tr>\n",
       "      <th>src_bytes</th>\n",
       "      <td>0</td>\n",
       "      <td>0</td>\n",
       "    </tr>\n",
       "    <tr>\n",
       "      <th>dst_bytes</th>\n",
       "      <td>0</td>\n",
       "      <td>0</td>\n",
       "    </tr>\n",
       "    <tr>\n",
       "      <th>land</th>\n",
       "      <td>0</td>\n",
       "      <td>0</td>\n",
       "    </tr>\n",
       "    <tr>\n",
       "      <th>wrong_fragment</th>\n",
       "      <td>0</td>\n",
       "      <td>0</td>\n",
       "    </tr>\n",
       "    <tr>\n",
       "      <th>urgent</th>\n",
       "      <td>0</td>\n",
       "      <td>0</td>\n",
       "    </tr>\n",
       "    <tr>\n",
       "      <th>hot</th>\n",
       "      <td>0</td>\n",
       "      <td>0</td>\n",
       "    </tr>\n",
       "    <tr>\n",
       "      <th>num_failed_logins</th>\n",
       "      <td>0</td>\n",
       "      <td>0</td>\n",
       "    </tr>\n",
       "    <tr>\n",
       "      <th>logged_in</th>\n",
       "      <td>0</td>\n",
       "      <td>0</td>\n",
       "    </tr>\n",
       "    <tr>\n",
       "      <th>num_compromised</th>\n",
       "      <td>0</td>\n",
       "      <td>0</td>\n",
       "    </tr>\n",
       "    <tr>\n",
       "      <th>root_shell</th>\n",
       "      <td>0</td>\n",
       "      <td>0</td>\n",
       "    </tr>\n",
       "    <tr>\n",
       "      <th>su_attempted</th>\n",
       "      <td>0</td>\n",
       "      <td>0</td>\n",
       "    </tr>\n",
       "    <tr>\n",
       "      <th>num_root</th>\n",
       "      <td>0</td>\n",
       "      <td>0</td>\n",
       "    </tr>\n",
       "    <tr>\n",
       "      <th>num_file_creations</th>\n",
       "      <td>0</td>\n",
       "      <td>0</td>\n",
       "    </tr>\n",
       "    <tr>\n",
       "      <th>num_shells</th>\n",
       "      <td>0</td>\n",
       "      <td>0</td>\n",
       "    </tr>\n",
       "    <tr>\n",
       "      <th>num_access_files</th>\n",
       "      <td>0</td>\n",
       "      <td>0</td>\n",
       "    </tr>\n",
       "    <tr>\n",
       "      <th>num_outbound_cmds</th>\n",
       "      <td>0</td>\n",
       "      <td>0</td>\n",
       "    </tr>\n",
       "    <tr>\n",
       "      <th>is_host_login</th>\n",
       "      <td>0</td>\n",
       "      <td>0</td>\n",
       "    </tr>\n",
       "    <tr>\n",
       "      <th>is_guest_login</th>\n",
       "      <td>0</td>\n",
       "      <td>0</td>\n",
       "    </tr>\n",
       "    <tr>\n",
       "      <th>count</th>\n",
       "      <td>0</td>\n",
       "      <td>0</td>\n",
       "    </tr>\n",
       "    <tr>\n",
       "      <th>srv_count</th>\n",
       "      <td>0</td>\n",
       "      <td>0</td>\n",
       "    </tr>\n",
       "    <tr>\n",
       "      <th>serror_rate</th>\n",
       "      <td>0</td>\n",
       "      <td>0</td>\n",
       "    </tr>\n",
       "    <tr>\n",
       "      <th>srv_serror_rate</th>\n",
       "      <td>0</td>\n",
       "      <td>0</td>\n",
       "    </tr>\n",
       "    <tr>\n",
       "      <th>rerror_rate</th>\n",
       "      <td>0</td>\n",
       "      <td>0</td>\n",
       "    </tr>\n",
       "    <tr>\n",
       "      <th>srv_rerror_rate</th>\n",
       "      <td>0</td>\n",
       "      <td>0</td>\n",
       "    </tr>\n",
       "    <tr>\n",
       "      <th>same_srv_rate</th>\n",
       "      <td>0</td>\n",
       "      <td>0</td>\n",
       "    </tr>\n",
       "    <tr>\n",
       "      <th>diff_srv_rate</th>\n",
       "      <td>0</td>\n",
       "      <td>0</td>\n",
       "    </tr>\n",
       "    <tr>\n",
       "      <th>srv_diff_host_rate</th>\n",
       "      <td>0</td>\n",
       "      <td>0</td>\n",
       "    </tr>\n",
       "    <tr>\n",
       "      <th>dst_host_count</th>\n",
       "      <td>0</td>\n",
       "      <td>0</td>\n",
       "    </tr>\n",
       "    <tr>\n",
       "      <th>dst_host_srv_count</th>\n",
       "      <td>0</td>\n",
       "      <td>0</td>\n",
       "    </tr>\n",
       "    <tr>\n",
       "      <th>dst_host_same_srv_rate</th>\n",
       "      <td>0</td>\n",
       "      <td>0</td>\n",
       "    </tr>\n",
       "    <tr>\n",
       "      <th>dst_host_diff_srv_rate</th>\n",
       "      <td>0</td>\n",
       "      <td>0</td>\n",
       "    </tr>\n",
       "    <tr>\n",
       "      <th>dst_host_same_src_port_rate</th>\n",
       "      <td>0</td>\n",
       "      <td>0</td>\n",
       "    </tr>\n",
       "    <tr>\n",
       "      <th>dst_host_srv_diff_host_rate</th>\n",
       "      <td>0</td>\n",
       "      <td>0</td>\n",
       "    </tr>\n",
       "    <tr>\n",
       "      <th>dst_host_serror_rate</th>\n",
       "      <td>0</td>\n",
       "      <td>0</td>\n",
       "    </tr>\n",
       "    <tr>\n",
       "      <th>dst_host_srv_serror_rate</th>\n",
       "      <td>0</td>\n",
       "      <td>0</td>\n",
       "    </tr>\n",
       "    <tr>\n",
       "      <th>dst_host_rerror_rate</th>\n",
       "      <td>0</td>\n",
       "      <td>0</td>\n",
       "    </tr>\n",
       "    <tr>\n",
       "      <th>dst_host_srv_rerror_rate</th>\n",
       "      <td>0</td>\n",
       "      <td>0</td>\n",
       "    </tr>\n",
       "    <tr>\n",
       "      <th>type</th>\n",
       "      <td>0</td>\n",
       "      <td>0</td>\n",
       "    </tr>\n",
       "  </tbody>\n",
       "</table>\n",
       "</div>"
      ],
      "text/plain": [
       "                             nb_NA  nb_NULL\n",
       "duration                         0        0\n",
       "protocol_type                    0        0\n",
       "service                          0        0\n",
       "flag                             0        0\n",
       "src_bytes                        0        0\n",
       "dst_bytes                        0        0\n",
       "land                             0        0\n",
       "wrong_fragment                   0        0\n",
       "urgent                           0        0\n",
       "hot                              0        0\n",
       "num_failed_logins                0        0\n",
       "logged_in                        0        0\n",
       "num_compromised                  0        0\n",
       "root_shell                       0        0\n",
       "su_attempted                     0        0\n",
       "num_root                         0        0\n",
       "num_file_creations               0        0\n",
       "num_shells                       0        0\n",
       "num_access_files                 0        0\n",
       "num_outbound_cmds                0        0\n",
       "is_host_login                    0        0\n",
       "is_guest_login                   0        0\n",
       "count                            0        0\n",
       "srv_count                        0        0\n",
       "serror_rate                      0        0\n",
       "srv_serror_rate                  0        0\n",
       "rerror_rate                      0        0\n",
       "srv_rerror_rate                  0        0\n",
       "same_srv_rate                    0        0\n",
       "diff_srv_rate                    0        0\n",
       "srv_diff_host_rate               0        0\n",
       "dst_host_count                   0        0\n",
       "dst_host_srv_count               0        0\n",
       "dst_host_same_srv_rate           0        0\n",
       "dst_host_diff_srv_rate           0        0\n",
       "dst_host_same_src_port_rate      0        0\n",
       "dst_host_srv_diff_host_rate      0        0\n",
       "dst_host_serror_rate             0        0\n",
       "dst_host_srv_serror_rate         0        0\n",
       "dst_host_rerror_rate             0        0\n",
       "dst_host_srv_rerror_rate         0        0\n",
       "type                             0        0"
      ]
     },
     "execution_count": 9,
     "metadata": {},
     "output_type": "execute_result"
    }
   ],
   "source": [
    "NULL = df.isnull().sum()\n",
    "NA = df.isna().sum()\n",
    "NA_NULL = pd.DataFrame([NA, NULL]).T\n",
    "NA_NULL.columns = [\"nb_NA\", \"nb_NULL\"]\n",
    "NA_NULL"
   ]
  },
  {
   "cell_type": "markdown",
   "metadata": {},
   "source": [
    "Pas de data préparation"
   ]
  },
  {
   "cell_type": "code",
   "execution_count": 10,
   "metadata": {},
   "outputs": [
    {
     "data": {
      "text/html": [
       "<div>\n",
       "<style scoped>\n",
       "    .dataframe tbody tr th:only-of-type {\n",
       "        vertical-align: middle;\n",
       "    }\n",
       "\n",
       "    .dataframe tbody tr th {\n",
       "        vertical-align: top;\n",
       "    }\n",
       "\n",
       "    .dataframe thead th {\n",
       "        text-align: right;\n",
       "    }\n",
       "</style>\n",
       "<table border=\"1\" class=\"dataframe\">\n",
       "  <thead>\n",
       "    <tr style=\"text-align: right;\">\n",
       "      <th></th>\n",
       "      <th>duration</th>\n",
       "      <th>src_bytes</th>\n",
       "      <th>dst_bytes</th>\n",
       "      <th>land</th>\n",
       "      <th>wrong_fragment</th>\n",
       "      <th>urgent</th>\n",
       "      <th>hot</th>\n",
       "      <th>num_failed_logins</th>\n",
       "      <th>logged_in</th>\n",
       "      <th>num_compromised</th>\n",
       "      <th>...</th>\n",
       "      <th>dst_host_count</th>\n",
       "      <th>dst_host_srv_count</th>\n",
       "      <th>dst_host_same_srv_rate</th>\n",
       "      <th>dst_host_diff_srv_rate</th>\n",
       "      <th>dst_host_same_src_port_rate</th>\n",
       "      <th>dst_host_srv_diff_host_rate</th>\n",
       "      <th>dst_host_serror_rate</th>\n",
       "      <th>dst_host_srv_serror_rate</th>\n",
       "      <th>dst_host_rerror_rate</th>\n",
       "      <th>dst_host_srv_rerror_rate</th>\n",
       "    </tr>\n",
       "  </thead>\n",
       "  <tbody>\n",
       "    <tr>\n",
       "      <th>0</th>\n",
       "      <td>0</td>\n",
       "      <td>181</td>\n",
       "      <td>5450</td>\n",
       "      <td>0</td>\n",
       "      <td>0</td>\n",
       "      <td>0</td>\n",
       "      <td>0</td>\n",
       "      <td>0</td>\n",
       "      <td>1</td>\n",
       "      <td>0</td>\n",
       "      <td>...</td>\n",
       "      <td>9</td>\n",
       "      <td>9</td>\n",
       "      <td>1.0</td>\n",
       "      <td>0.0</td>\n",
       "      <td>0.11</td>\n",
       "      <td>0.0</td>\n",
       "      <td>0.0</td>\n",
       "      <td>0.0</td>\n",
       "      <td>0.0</td>\n",
       "      <td>0.0</td>\n",
       "    </tr>\n",
       "    <tr>\n",
       "      <th>1</th>\n",
       "      <td>0</td>\n",
       "      <td>239</td>\n",
       "      <td>486</td>\n",
       "      <td>0</td>\n",
       "      <td>0</td>\n",
       "      <td>0</td>\n",
       "      <td>0</td>\n",
       "      <td>0</td>\n",
       "      <td>1</td>\n",
       "      <td>0</td>\n",
       "      <td>...</td>\n",
       "      <td>19</td>\n",
       "      <td>19</td>\n",
       "      <td>1.0</td>\n",
       "      <td>0.0</td>\n",
       "      <td>0.05</td>\n",
       "      <td>0.0</td>\n",
       "      <td>0.0</td>\n",
       "      <td>0.0</td>\n",
       "      <td>0.0</td>\n",
       "      <td>0.0</td>\n",
       "    </tr>\n",
       "    <tr>\n",
       "      <th>2</th>\n",
       "      <td>0</td>\n",
       "      <td>235</td>\n",
       "      <td>1337</td>\n",
       "      <td>0</td>\n",
       "      <td>0</td>\n",
       "      <td>0</td>\n",
       "      <td>0</td>\n",
       "      <td>0</td>\n",
       "      <td>1</td>\n",
       "      <td>0</td>\n",
       "      <td>...</td>\n",
       "      <td>29</td>\n",
       "      <td>29</td>\n",
       "      <td>1.0</td>\n",
       "      <td>0.0</td>\n",
       "      <td>0.03</td>\n",
       "      <td>0.0</td>\n",
       "      <td>0.0</td>\n",
       "      <td>0.0</td>\n",
       "      <td>0.0</td>\n",
       "      <td>0.0</td>\n",
       "    </tr>\n",
       "    <tr>\n",
       "      <th>3</th>\n",
       "      <td>0</td>\n",
       "      <td>219</td>\n",
       "      <td>1337</td>\n",
       "      <td>0</td>\n",
       "      <td>0</td>\n",
       "      <td>0</td>\n",
       "      <td>0</td>\n",
       "      <td>0</td>\n",
       "      <td>1</td>\n",
       "      <td>0</td>\n",
       "      <td>...</td>\n",
       "      <td>39</td>\n",
       "      <td>39</td>\n",
       "      <td>1.0</td>\n",
       "      <td>0.0</td>\n",
       "      <td>0.03</td>\n",
       "      <td>0.0</td>\n",
       "      <td>0.0</td>\n",
       "      <td>0.0</td>\n",
       "      <td>0.0</td>\n",
       "      <td>0.0</td>\n",
       "    </tr>\n",
       "    <tr>\n",
       "      <th>4</th>\n",
       "      <td>0</td>\n",
       "      <td>217</td>\n",
       "      <td>2032</td>\n",
       "      <td>0</td>\n",
       "      <td>0</td>\n",
       "      <td>0</td>\n",
       "      <td>0</td>\n",
       "      <td>0</td>\n",
       "      <td>1</td>\n",
       "      <td>0</td>\n",
       "      <td>...</td>\n",
       "      <td>49</td>\n",
       "      <td>49</td>\n",
       "      <td>1.0</td>\n",
       "      <td>0.0</td>\n",
       "      <td>0.02</td>\n",
       "      <td>0.0</td>\n",
       "      <td>0.0</td>\n",
       "      <td>0.0</td>\n",
       "      <td>0.0</td>\n",
       "      <td>0.0</td>\n",
       "    </tr>\n",
       "  </tbody>\n",
       "</table>\n",
       "<p>5 rows × 38 columns</p>\n",
       "</div>"
      ],
      "text/plain": [
       "   duration  src_bytes  dst_bytes  land  wrong_fragment  urgent  hot  \\\n",
       "0         0        181       5450     0               0       0    0   \n",
       "1         0        239        486     0               0       0    0   \n",
       "2         0        235       1337     0               0       0    0   \n",
       "3         0        219       1337     0               0       0    0   \n",
       "4         0        217       2032     0               0       0    0   \n",
       "\n",
       "   num_failed_logins  logged_in  num_compromised            ...             \\\n",
       "0                  0          1                0            ...              \n",
       "1                  0          1                0            ...              \n",
       "2                  0          1                0            ...              \n",
       "3                  0          1                0            ...              \n",
       "4                  0          1                0            ...              \n",
       "\n",
       "   dst_host_count  dst_host_srv_count  dst_host_same_srv_rate  \\\n",
       "0               9                   9                     1.0   \n",
       "1              19                  19                     1.0   \n",
       "2              29                  29                     1.0   \n",
       "3              39                  39                     1.0   \n",
       "4              49                  49                     1.0   \n",
       "\n",
       "   dst_host_diff_srv_rate  dst_host_same_src_port_rate  \\\n",
       "0                     0.0                         0.11   \n",
       "1                     0.0                         0.05   \n",
       "2                     0.0                         0.03   \n",
       "3                     0.0                         0.03   \n",
       "4                     0.0                         0.02   \n",
       "\n",
       "   dst_host_srv_diff_host_rate  dst_host_serror_rate  \\\n",
       "0                          0.0                   0.0   \n",
       "1                          0.0                   0.0   \n",
       "2                          0.0                   0.0   \n",
       "3                          0.0                   0.0   \n",
       "4                          0.0                   0.0   \n",
       "\n",
       "   dst_host_srv_serror_rate  dst_host_rerror_rate  dst_host_srv_rerror_rate  \n",
       "0                       0.0                   0.0                       0.0  \n",
       "1                       0.0                   0.0                       0.0  \n",
       "2                       0.0                   0.0                       0.0  \n",
       "3                       0.0                   0.0                       0.0  \n",
       "4                       0.0                   0.0                       0.0  \n",
       "\n",
       "[5 rows x 38 columns]"
      ]
     },
     "execution_count": 10,
     "metadata": {},
     "output_type": "execute_result"
    }
   ],
   "source": [
    "#Ce avec quoi on va predire\n",
    "X = df.loc[:, df.columns != \"type\"]\n",
    "X = X.drop(\"protocol_type\", 1)\n",
    "X = X.drop(\"service\", 1)\n",
    "X = X.drop(\"flag\", 1)\n",
    "X.head()"
   ]
  },
  {
   "cell_type": "code",
   "execution_count": 11,
   "metadata": {},
   "outputs": [
    {
     "data": {
      "text/plain": [
       "0    normal.\n",
       "1    normal.\n",
       "2    normal.\n",
       "3    normal.\n",
       "4    normal.\n",
       "Name: type, dtype: object"
      ]
     },
     "execution_count": 11,
     "metadata": {},
     "output_type": "execute_result"
    }
   ],
   "source": [
    "#Ce que l'on veut predire\n",
    "Y = df[\"type\"]\n",
    "Y.head()"
   ]
  },
  {
   "cell_type": "code",
   "execution_count": 12,
   "metadata": {},
   "outputs": [],
   "source": [
    "#Séparation en jeu de test et de train \n",
    "X_train, X_test, Y_train, Y_test = train_test_split(X, Y, test_size = 0.3)"
   ]
  },
  {
   "cell_type": "code",
   "execution_count": 13,
   "metadata": {},
   "outputs": [],
   "source": [
    "#Séparation en jeu de test et de validation \n",
    "X_test, X_val, Y_test, Y_val = train_test_split(X_test, Y_test, test_size = 0.3)"
   ]
  },
  {
   "cell_type": "code",
   "execution_count": 14,
   "metadata": {},
   "outputs": [],
   "source": [
    "from sklearn.ensemble import RandomForestClassifier"
   ]
  },
  {
   "cell_type": "code",
   "execution_count": 15,
   "metadata": {},
   "outputs": [],
   "source": [
    "hyperparametres = {\"n_estimators\" : 20, \n",
    "                  \"bootstrap\" : False}\n",
    "#On fait un dictionnaire avec les hypers paramètres"
   ]
  },
  {
   "cell_type": "code",
   "execution_count": 16,
   "metadata": {},
   "outputs": [],
   "source": [
    "algo = RandomForestClassifier(**hyperparametres)"
   ]
  },
  {
   "cell_type": "code",
   "execution_count": 17,
   "metadata": {},
   "outputs": [],
   "source": [
    "#Entrainement du modèle\n",
    "modele = algo.fit(X_train, Y_train)"
   ]
  },
  {
   "cell_type": "code",
   "execution_count": 18,
   "metadata": {},
   "outputs": [
    {
     "data": {
      "text/plain": [
       "0.9997493830968538"
      ]
     },
     "execution_count": 18,
     "metadata": {},
     "output_type": "execute_result"
    }
   ],
   "source": [
    " "
   ]
  },
  {
   "cell_type": "code",
   "execution_count": 19,
   "metadata": {},
   "outputs": [],
   "source": [
    "from sklearn.naive_bayes import GaussianNB"
   ]
  },
  {
   "cell_type": "code",
   "execution_count": 20,
   "metadata": {},
   "outputs": [],
   "source": [
    "algo2 = GaussianNB()"
   ]
  },
  {
   "cell_type": "code",
   "execution_count": 21,
   "metadata": {},
   "outputs": [],
   "source": [
    "modele2 = algo2.fit(X_train, Y_train)"
   ]
  },
  {
   "cell_type": "code",
   "execution_count": 22,
   "metadata": {},
   "outputs": [
    {
     "data": {
      "text/plain": [
       "0.9498380629241209"
      ]
     },
     "execution_count": 22,
     "metadata": {},
     "output_type": "execute_result"
    }
   ],
   "source": [
    "modele2.score(X_test, Y_test)"
   ]
  },
  {
   "cell_type": "code",
   "execution_count": 23,
   "metadata": {},
   "outputs": [],
   "source": [
    "from sklearn.tree import DecisionTreeClassifier"
   ]
  },
  {
   "cell_type": "code",
   "execution_count": 24,
   "metadata": {},
   "outputs": [],
   "source": [
    "algo3 = DecisionTreeClassifier()"
   ]
  },
  {
   "cell_type": "code",
   "execution_count": 25,
   "metadata": {},
   "outputs": [],
   "source": [
    "modele3 = algo3.fit(X_train, Y_train)"
   ]
  },
  {
   "cell_type": "code",
   "execution_count": 26,
   "metadata": {},
   "outputs": [
    {
     "data": {
      "text/plain": [
       "0.999363818630475"
      ]
     },
     "execution_count": 26,
     "metadata": {},
     "output_type": "execute_result"
    }
   ],
   "source": [
    "modele3.score(X_test, Y_test)"
   ]
  },
  {
   "cell_type": "code",
   "execution_count": 30,
   "metadata": {},
   "outputs": [],
   "source": [
    "ques = X_val.values\n",
    "rep = Y_val.values"
   ]
  },
  {
   "cell_type": "code",
   "execution_count": 31,
   "metadata": {},
   "outputs": [
    {
     "data": {
      "text/plain": [
       "array([[0.000e+00, 9.311e+03, 0.000e+00, ..., 0.000e+00, 0.000e+00,\n",
       "        0.000e+00],\n",
       "       [0.000e+00, 1.032e+03, 0.000e+00, ..., 0.000e+00, 0.000e+00,\n",
       "        0.000e+00],\n",
       "       [0.000e+00, 3.280e+02, 6.380e+02, ..., 0.000e+00, 0.000e+00,\n",
       "        0.000e+00],\n",
       "       ...,\n",
       "       [0.000e+00, 1.050e+02, 0.000e+00, ..., 0.000e+00, 0.000e+00,\n",
       "        0.000e+00],\n",
       "       [0.000e+00, 0.000e+00, 0.000e+00, ..., 1.000e-02, 1.000e+00,\n",
       "        6.800e-01],\n",
       "       [0.000e+00, 0.000e+00, 0.000e+00, ..., 1.000e+00, 0.000e+00,\n",
       "        0.000e+00]])"
      ]
     },
     "execution_count": 31,
     "metadata": {},
     "output_type": "execute_result"
    }
   ],
   "source": [
    "ques"
   ]
  },
  {
   "cell_type": "code",
   "execution_count": 32,
   "metadata": {},
   "outputs": [],
   "source": [
    "q = modele.predict(ques)"
   ]
  },
  {
   "cell_type": "code",
   "execution_count": 33,
   "metadata": {},
   "outputs": [
    {
     "data": {
      "text/plain": [
       "0.9997076220677867"
      ]
     },
     "execution_count": 33,
     "metadata": {},
     "output_type": "execute_result"
    }
   ],
   "source": [
    "modele.score(X_val, Y_val)"
   ]
  },
  {
   "cell_type": "markdown",
   "metadata": {},
   "source": [
    "# La GridSearch "
   ]
  },
  {
   "cell_type": "code",
   "execution_count": 34,
   "metadata": {},
   "outputs": [],
   "source": [
    "from sklearn.model_selection import GridSearchCV, StratifiedKFold\n",
    "from sklearn.metrics import make_scorer, precision_score, accuracy_score, recall_score"
   ]
  },
  {
   "cell_type": "code",
   "execution_count": 35,
   "metadata": {},
   "outputs": [
    {
     "name": "stderr",
     "output_type": "stream",
     "text": [
      "C:\\Users\\elodi\\Anaconda3\\lib\\site-packages\\sklearn\\model_selection\\_split.py:605: Warning: The least populated class in y has only 1 members, which is too few. The minimum number of members in any class cannot be less than n_splits=2.\n",
      "  % (min_groups, self.n_splits)), Warning)\n"
     ]
    },
    {
     "ename": "JoblibValueError",
     "evalue": "JoblibValueError\n___________________________________________________________________________\nMultiprocessing exception:\n...........................................................................\nC:\\Users\\elodi\\Anaconda3\\lib\\runpy.py in _run_module_as_main(mod_name='ipykernel_launcher', alter_argv=1)\n    188         sys.exit(msg)\n    189     main_globals = sys.modules[\"__main__\"].__dict__\n    190     if alter_argv:\n    191         sys.argv[0] = mod_spec.origin\n    192     return _run_code(code, main_globals, None,\n--> 193                      \"__main__\", mod_spec)\n        mod_spec = ModuleSpec(name='ipykernel_launcher', loader=<_f...nda3\\\\lib\\\\site-packages\\\\ipykernel_launcher.py')\n    194 \n    195 def run_module(mod_name, init_globals=None,\n    196                run_name=None, alter_sys=False):\n    197     \"\"\"Execute a module's code without importing it\n\n...........................................................................\nC:\\Users\\elodi\\Anaconda3\\lib\\runpy.py in _run_code(code=<code object <module> at 0x0000023D774F4ED0, fil...lib\\site-packages\\ipykernel_launcher.py\", line 5>, run_globals={'__annotations__': {}, '__builtins__': <module 'builtins' (built-in)>, '__cached__': r'C:\\Users\\elodi\\Anaconda3\\lib\\site-packages\\__pycache__\\ipykernel_launcher.cpython-36.pyc', '__doc__': 'Entry point for launching an IPython kernel.\\n\\nTh...orts until\\nafter removing the cwd from sys.path.\\n', '__file__': r'C:\\Users\\elodi\\Anaconda3\\lib\\site-packages\\ipykernel_launcher.py', '__loader__': <_frozen_importlib_external.SourceFileLoader object>, '__name__': '__main__', '__package__': '', '__spec__': ModuleSpec(name='ipykernel_launcher', loader=<_f...nda3\\\\lib\\\\site-packages\\\\ipykernel_launcher.py'), 'app': <module 'ipykernel.kernelapp' from 'C:\\\\Users\\\\e...a3\\\\lib\\\\site-packages\\\\ipykernel\\\\kernelapp.py'>, ...}, init_globals=None, mod_name='__main__', mod_spec=ModuleSpec(name='ipykernel_launcher', loader=<_f...nda3\\\\lib\\\\site-packages\\\\ipykernel_launcher.py'), pkg_name='', script_name=None)\n     80                        __cached__ = cached,\n     81                        __doc__ = None,\n     82                        __loader__ = loader,\n     83                        __package__ = pkg_name,\n     84                        __spec__ = mod_spec)\n---> 85     exec(code, run_globals)\n        code = <code object <module> at 0x0000023D774F4ED0, fil...lib\\site-packages\\ipykernel_launcher.py\", line 5>\n        run_globals = {'__annotations__': {}, '__builtins__': <module 'builtins' (built-in)>, '__cached__': r'C:\\Users\\elodi\\Anaconda3\\lib\\site-packages\\__pycache__\\ipykernel_launcher.cpython-36.pyc', '__doc__': 'Entry point for launching an IPython kernel.\\n\\nTh...orts until\\nafter removing the cwd from sys.path.\\n', '__file__': r'C:\\Users\\elodi\\Anaconda3\\lib\\site-packages\\ipykernel_launcher.py', '__loader__': <_frozen_importlib_external.SourceFileLoader object>, '__name__': '__main__', '__package__': '', '__spec__': ModuleSpec(name='ipykernel_launcher', loader=<_f...nda3\\\\lib\\\\site-packages\\\\ipykernel_launcher.py'), 'app': <module 'ipykernel.kernelapp' from 'C:\\\\Users\\\\e...a3\\\\lib\\\\site-packages\\\\ipykernel\\\\kernelapp.py'>, ...}\n     86     return run_globals\n     87 \n     88 def _run_module_code(code, init_globals=None,\n     89                     mod_name=None, mod_spec=None,\n\n...........................................................................\nC:\\Users\\elodi\\Anaconda3\\lib\\site-packages\\ipykernel_launcher.py in <module>()\n     11     # This is added back by InteractiveShellApp.init_path()\n     12     if sys.path[0] == '':\n     13         del sys.path[0]\n     14 \n     15     from ipykernel import kernelapp as app\n---> 16     app.launch_new_instance()\n\n...........................................................................\nC:\\Users\\elodi\\Anaconda3\\lib\\site-packages\\traitlets\\config\\application.py in launch_instance(cls=<class 'ipykernel.kernelapp.IPKernelApp'>, argv=None, **kwargs={})\n    653 \n    654         If a global instance already exists, this reinitializes and starts it\n    655         \"\"\"\n    656         app = cls.instance(**kwargs)\n    657         app.initialize(argv)\n--> 658         app.start()\n        app.start = <bound method IPKernelApp.start of <ipykernel.kernelapp.IPKernelApp object>>\n    659 \n    660 #-----------------------------------------------------------------------------\n    661 # utility functions, for convenience\n    662 #-----------------------------------------------------------------------------\n\n...........................................................................\nC:\\Users\\elodi\\Anaconda3\\lib\\site-packages\\ipykernel\\kernelapp.py in start(self=<ipykernel.kernelapp.IPKernelApp object>)\n    481         if self.poller is not None:\n    482             self.poller.start()\n    483         self.kernel.start()\n    484         self.io_loop = ioloop.IOLoop.current()\n    485         try:\n--> 486             self.io_loop.start()\n        self.io_loop.start = <bound method BaseAsyncIOLoop.start of <tornado.platform.asyncio.AsyncIOMainLoop object>>\n    487         except KeyboardInterrupt:\n    488             pass\n    489 \n    490 launch_new_instance = IPKernelApp.launch_instance\n\n...........................................................................\nC:\\Users\\elodi\\Anaconda3\\lib\\site-packages\\tornado\\platform\\asyncio.py in start(self=<tornado.platform.asyncio.AsyncIOMainLoop object>)\n    122         except (RuntimeError, AssertionError):\n    123             old_loop = None\n    124         try:\n    125             self._setup_logging()\n    126             asyncio.set_event_loop(self.asyncio_loop)\n--> 127             self.asyncio_loop.run_forever()\n        self.asyncio_loop.run_forever = <bound method BaseEventLoop.run_forever of <_Win...EventLoop running=True closed=False debug=False>>\n    128         finally:\n    129             asyncio.set_event_loop(old_loop)\n    130 \n    131     def stop(self):\n\n...........................................................................\nC:\\Users\\elodi\\Anaconda3\\lib\\asyncio\\base_events.py in run_forever(self=<_WindowsSelectorEventLoop running=True closed=False debug=False>)\n    417             sys.set_asyncgen_hooks(firstiter=self._asyncgen_firstiter_hook,\n    418                                    finalizer=self._asyncgen_finalizer_hook)\n    419         try:\n    420             events._set_running_loop(self)\n    421             while True:\n--> 422                 self._run_once()\n        self._run_once = <bound method BaseEventLoop._run_once of <_Windo...EventLoop running=True closed=False debug=False>>\n    423                 if self._stopping:\n    424                     break\n    425         finally:\n    426             self._stopping = False\n\n...........................................................................\nC:\\Users\\elodi\\Anaconda3\\lib\\asyncio\\base_events.py in _run_once(self=<_WindowsSelectorEventLoop running=True closed=False debug=False>)\n   1427                         logger.warning('Executing %s took %.3f seconds',\n   1428                                        _format_handle(handle), dt)\n   1429                 finally:\n   1430                     self._current_handle = None\n   1431             else:\n-> 1432                 handle._run()\n        handle._run = <bound method Handle._run of <Handle BaseAsyncIOLoop._handle_events(1028, 1)>>\n   1433         handle = None  # Needed to break cycles when an exception occurs.\n   1434 \n   1435     def _set_coroutine_wrapper(self, enabled):\n   1436         try:\n\n...........................................................................\nC:\\Users\\elodi\\Anaconda3\\lib\\asyncio\\events.py in _run(self=<Handle BaseAsyncIOLoop._handle_events(1028, 1)>)\n    140             self._callback = None\n    141             self._args = None\n    142 \n    143     def _run(self):\n    144         try:\n--> 145             self._callback(*self._args)\n        self._callback = <bound method BaseAsyncIOLoop._handle_events of <tornado.platform.asyncio.AsyncIOMainLoop object>>\n        self._args = (1028, 1)\n    146         except Exception as exc:\n    147             cb = _format_callback_source(self._callback, self._args)\n    148             msg = 'Exception in callback {}'.format(cb)\n    149             context = {\n\n...........................................................................\nC:\\Users\\elodi\\Anaconda3\\lib\\site-packages\\tornado\\platform\\asyncio.py in _handle_events(self=<tornado.platform.asyncio.AsyncIOMainLoop object>, fd=1028, events=1)\n    112             self.writers.remove(fd)\n    113         del self.handlers[fd]\n    114 \n    115     def _handle_events(self, fd, events):\n    116         fileobj, handler_func = self.handlers[fd]\n--> 117         handler_func(fileobj, events)\n        handler_func = <function wrap.<locals>.null_wrapper>\n        fileobj = <zmq.sugar.socket.Socket object>\n        events = 1\n    118 \n    119     def start(self):\n    120         try:\n    121             old_loop = asyncio.get_event_loop()\n\n...........................................................................\nC:\\Users\\elodi\\Anaconda3\\lib\\site-packages\\tornado\\stack_context.py in null_wrapper(*args=(<zmq.sugar.socket.Socket object>, 1), **kwargs={})\n    271         # Fast path when there are no active contexts.\n    272         def null_wrapper(*args, **kwargs):\n    273             try:\n    274                 current_state = _state.contexts\n    275                 _state.contexts = cap_contexts[0]\n--> 276                 return fn(*args, **kwargs)\n        args = (<zmq.sugar.socket.Socket object>, 1)\n        kwargs = {}\n    277             finally:\n    278                 _state.contexts = current_state\n    279         null_wrapper._wrapped = True\n    280         return null_wrapper\n\n...........................................................................\nC:\\Users\\elodi\\Anaconda3\\lib\\site-packages\\zmq\\eventloop\\zmqstream.py in _handle_events(self=<zmq.eventloop.zmqstream.ZMQStream object>, fd=<zmq.sugar.socket.Socket object>, events=1)\n    445             return\n    446         zmq_events = self.socket.EVENTS\n    447         try:\n    448             # dispatch events:\n    449             if zmq_events & zmq.POLLIN and self.receiving():\n--> 450                 self._handle_recv()\n        self._handle_recv = <bound method ZMQStream._handle_recv of <zmq.eventloop.zmqstream.ZMQStream object>>\n    451                 if not self.socket:\n    452                     return\n    453             if zmq_events & zmq.POLLOUT and self.sending():\n    454                 self._handle_send()\n\n...........................................................................\nC:\\Users\\elodi\\Anaconda3\\lib\\site-packages\\zmq\\eventloop\\zmqstream.py in _handle_recv(self=<zmq.eventloop.zmqstream.ZMQStream object>)\n    475             else:\n    476                 raise\n    477         else:\n    478             if self._recv_callback:\n    479                 callback = self._recv_callback\n--> 480                 self._run_callback(callback, msg)\n        self._run_callback = <bound method ZMQStream._run_callback of <zmq.eventloop.zmqstream.ZMQStream object>>\n        callback = <function wrap.<locals>.null_wrapper>\n        msg = [<zmq.sugar.frame.Frame object>, <zmq.sugar.frame.Frame object>, <zmq.sugar.frame.Frame object>, <zmq.sugar.frame.Frame object>, <zmq.sugar.frame.Frame object>, <zmq.sugar.frame.Frame object>, <zmq.sugar.frame.Frame object>]\n    481         \n    482 \n    483     def _handle_send(self):\n    484         \"\"\"Handle a send event.\"\"\"\n\n...........................................................................\nC:\\Users\\elodi\\Anaconda3\\lib\\site-packages\\zmq\\eventloop\\zmqstream.py in _run_callback(self=<zmq.eventloop.zmqstream.ZMQStream object>, callback=<function wrap.<locals>.null_wrapper>, *args=([<zmq.sugar.frame.Frame object>, <zmq.sugar.frame.Frame object>, <zmq.sugar.frame.Frame object>, <zmq.sugar.frame.Frame object>, <zmq.sugar.frame.Frame object>, <zmq.sugar.frame.Frame object>, <zmq.sugar.frame.Frame object>],), **kwargs={})\n    427         close our socket.\"\"\"\n    428         try:\n    429             # Use a NullContext to ensure that all StackContexts are run\n    430             # inside our blanket exception handler rather than outside.\n    431             with stack_context.NullContext():\n--> 432                 callback(*args, **kwargs)\n        callback = <function wrap.<locals>.null_wrapper>\n        args = ([<zmq.sugar.frame.Frame object>, <zmq.sugar.frame.Frame object>, <zmq.sugar.frame.Frame object>, <zmq.sugar.frame.Frame object>, <zmq.sugar.frame.Frame object>, <zmq.sugar.frame.Frame object>, <zmq.sugar.frame.Frame object>],)\n        kwargs = {}\n    433         except:\n    434             gen_log.error(\"Uncaught exception in ZMQStream callback\",\n    435                           exc_info=True)\n    436             # Re-raise the exception so that IOLoop.handle_callback_exception\n\n...........................................................................\nC:\\Users\\elodi\\Anaconda3\\lib\\site-packages\\tornado\\stack_context.py in null_wrapper(*args=([<zmq.sugar.frame.Frame object>, <zmq.sugar.frame.Frame object>, <zmq.sugar.frame.Frame object>, <zmq.sugar.frame.Frame object>, <zmq.sugar.frame.Frame object>, <zmq.sugar.frame.Frame object>, <zmq.sugar.frame.Frame object>],), **kwargs={})\n    271         # Fast path when there are no active contexts.\n    272         def null_wrapper(*args, **kwargs):\n    273             try:\n    274                 current_state = _state.contexts\n    275                 _state.contexts = cap_contexts[0]\n--> 276                 return fn(*args, **kwargs)\n        args = ([<zmq.sugar.frame.Frame object>, <zmq.sugar.frame.Frame object>, <zmq.sugar.frame.Frame object>, <zmq.sugar.frame.Frame object>, <zmq.sugar.frame.Frame object>, <zmq.sugar.frame.Frame object>, <zmq.sugar.frame.Frame object>],)\n        kwargs = {}\n    277             finally:\n    278                 _state.contexts = current_state\n    279         null_wrapper._wrapped = True\n    280         return null_wrapper\n\n...........................................................................\nC:\\Users\\elodi\\Anaconda3\\lib\\site-packages\\ipykernel\\kernelbase.py in dispatcher(msg=[<zmq.sugar.frame.Frame object>, <zmq.sugar.frame.Frame object>, <zmq.sugar.frame.Frame object>, <zmq.sugar.frame.Frame object>, <zmq.sugar.frame.Frame object>, <zmq.sugar.frame.Frame object>, <zmq.sugar.frame.Frame object>])\n    278         if self.control_stream:\n    279             self.control_stream.on_recv(self.dispatch_control, copy=False)\n    280 \n    281         def make_dispatcher(stream):\n    282             def dispatcher(msg):\n--> 283                 return self.dispatch_shell(stream, msg)\n        msg = [<zmq.sugar.frame.Frame object>, <zmq.sugar.frame.Frame object>, <zmq.sugar.frame.Frame object>, <zmq.sugar.frame.Frame object>, <zmq.sugar.frame.Frame object>, <zmq.sugar.frame.Frame object>, <zmq.sugar.frame.Frame object>]\n    284             return dispatcher\n    285 \n    286         for s in self.shell_streams:\n    287             s.on_recv(make_dispatcher(s), copy=False)\n\n...........................................................................\nC:\\Users\\elodi\\Anaconda3\\lib\\site-packages\\ipykernel\\kernelbase.py in dispatch_shell(self=<ipykernel.ipkernel.IPythonKernel object>, stream=<zmq.eventloop.zmqstream.ZMQStream object>, msg={'buffers': [], 'content': {'allow_stdin': True, 'code': 'clf = RandomForestClassifier(n_jobs = -1)\\n\\nparam...e()\\nprint(results)\\nprint(grid_search.best_score_)', 'silent': False, 'stop_on_error': True, 'store_history': True, 'user_expressions': {}}, 'header': {'date': datetime.datetime(2019, 2, 14, 12, 54, 11, 873118, tzinfo=tzutc()), 'msg_id': '4d91672db1fd486d9f57cf4c12827abf', 'msg_type': 'execute_request', 'session': 'e2cf64adc3cc47788898ca6881b6bc60', 'username': 'username', 'version': '5.2'}, 'metadata': {}, 'msg_id': '4d91672db1fd486d9f57cf4c12827abf', 'msg_type': 'execute_request', 'parent_header': {}})\n    228             self.log.warn(\"Unknown message type: %r\", msg_type)\n    229         else:\n    230             self.log.debug(\"%s: %s\", msg_type, msg)\n    231             self.pre_handler_hook()\n    232             try:\n--> 233                 handler(stream, idents, msg)\n        handler = <bound method Kernel.execute_request of <ipykernel.ipkernel.IPythonKernel object>>\n        stream = <zmq.eventloop.zmqstream.ZMQStream object>\n        idents = [b'e2cf64adc3cc47788898ca6881b6bc60']\n        msg = {'buffers': [], 'content': {'allow_stdin': True, 'code': 'clf = RandomForestClassifier(n_jobs = -1)\\n\\nparam...e()\\nprint(results)\\nprint(grid_search.best_score_)', 'silent': False, 'stop_on_error': True, 'store_history': True, 'user_expressions': {}}, 'header': {'date': datetime.datetime(2019, 2, 14, 12, 54, 11, 873118, tzinfo=tzutc()), 'msg_id': '4d91672db1fd486d9f57cf4c12827abf', 'msg_type': 'execute_request', 'session': 'e2cf64adc3cc47788898ca6881b6bc60', 'username': 'username', 'version': '5.2'}, 'metadata': {}, 'msg_id': '4d91672db1fd486d9f57cf4c12827abf', 'msg_type': 'execute_request', 'parent_header': {}}\n    234             except Exception:\n    235                 self.log.error(\"Exception in message handler:\", exc_info=True)\n    236             finally:\n    237                 self.post_handler_hook()\n\n...........................................................................\nC:\\Users\\elodi\\Anaconda3\\lib\\site-packages\\ipykernel\\kernelbase.py in execute_request(self=<ipykernel.ipkernel.IPythonKernel object>, stream=<zmq.eventloop.zmqstream.ZMQStream object>, ident=[b'e2cf64adc3cc47788898ca6881b6bc60'], parent={'buffers': [], 'content': {'allow_stdin': True, 'code': 'clf = RandomForestClassifier(n_jobs = -1)\\n\\nparam...e()\\nprint(results)\\nprint(grid_search.best_score_)', 'silent': False, 'stop_on_error': True, 'store_history': True, 'user_expressions': {}}, 'header': {'date': datetime.datetime(2019, 2, 14, 12, 54, 11, 873118, tzinfo=tzutc()), 'msg_id': '4d91672db1fd486d9f57cf4c12827abf', 'msg_type': 'execute_request', 'session': 'e2cf64adc3cc47788898ca6881b6bc60', 'username': 'username', 'version': '5.2'}, 'metadata': {}, 'msg_id': '4d91672db1fd486d9f57cf4c12827abf', 'msg_type': 'execute_request', 'parent_header': {}})\n    394         if not silent:\n    395             self.execution_count += 1\n    396             self._publish_execute_input(code, parent, self.execution_count)\n    397 \n    398         reply_content = self.do_execute(code, silent, store_history,\n--> 399                                         user_expressions, allow_stdin)\n        user_expressions = {}\n        allow_stdin = True\n    400 \n    401         # Flush output before sending the reply.\n    402         sys.stdout.flush()\n    403         sys.stderr.flush()\n\n...........................................................................\nC:\\Users\\elodi\\Anaconda3\\lib\\site-packages\\ipykernel\\ipkernel.py in do_execute(self=<ipykernel.ipkernel.IPythonKernel object>, code='clf = RandomForestClassifier(n_jobs = -1)\\n\\nparam...e()\\nprint(results)\\nprint(grid_search.best_score_)', silent=False, store_history=True, user_expressions={}, allow_stdin=True)\n    203 \n    204         self._forward_input(allow_stdin)\n    205 \n    206         reply_content = {}\n    207         try:\n--> 208             res = shell.run_cell(code, store_history=store_history, silent=silent)\n        res = undefined\n        shell.run_cell = <bound method ZMQInteractiveShell.run_cell of <ipykernel.zmqshell.ZMQInteractiveShell object>>\n        code = 'clf = RandomForestClassifier(n_jobs = -1)\\n\\nparam...e()\\nprint(results)\\nprint(grid_search.best_score_)'\n        store_history = True\n        silent = False\n    209         finally:\n    210             self._restore_input()\n    211 \n    212         if res.error_before_exec is not None:\n\n...........................................................................\nC:\\Users\\elodi\\Anaconda3\\lib\\site-packages\\ipykernel\\zmqshell.py in run_cell(self=<ipykernel.zmqshell.ZMQInteractiveShell object>, *args=('clf = RandomForestClassifier(n_jobs = -1)\\n\\nparam...e()\\nprint(results)\\nprint(grid_search.best_score_)',), **kwargs={'silent': False, 'store_history': True})\n    532             )\n    533         self.payload_manager.write_payload(payload)\n    534 \n    535     def run_cell(self, *args, **kwargs):\n    536         self._last_traceback = None\n--> 537         return super(ZMQInteractiveShell, self).run_cell(*args, **kwargs)\n        self.run_cell = <bound method ZMQInteractiveShell.run_cell of <ipykernel.zmqshell.ZMQInteractiveShell object>>\n        args = ('clf = RandomForestClassifier(n_jobs = -1)\\n\\nparam...e()\\nprint(results)\\nprint(grid_search.best_score_)',)\n        kwargs = {'silent': False, 'store_history': True}\n    538 \n    539     def _showtraceback(self, etype, evalue, stb):\n    540         # try to preserve ordering of tracebacks and print statements\n    541         sys.stdout.flush()\n\n...........................................................................\nC:\\Users\\elodi\\Anaconda3\\lib\\site-packages\\IPython\\core\\interactiveshell.py in run_cell(self=<ipykernel.zmqshell.ZMQInteractiveShell object>, raw_cell='clf = RandomForestClassifier(n_jobs = -1)\\n\\nparam...e()\\nprint(results)\\nprint(grid_search.best_score_)', store_history=True, silent=False, shell_futures=True)\n   2657         -------\n   2658         result : :class:`ExecutionResult`\n   2659         \"\"\"\n   2660         try:\n   2661             result = self._run_cell(\n-> 2662                 raw_cell, store_history, silent, shell_futures)\n        raw_cell = 'clf = RandomForestClassifier(n_jobs = -1)\\n\\nparam...e()\\nprint(results)\\nprint(grid_search.best_score_)'\n        store_history = True\n        silent = False\n        shell_futures = True\n   2663         finally:\n   2664             self.events.trigger('post_execute')\n   2665             if not silent:\n   2666                 self.events.trigger('post_run_cell', result)\n\n...........................................................................\nC:\\Users\\elodi\\Anaconda3\\lib\\site-packages\\IPython\\core\\interactiveshell.py in _run_cell(self=<ipykernel.zmqshell.ZMQInteractiveShell object>, raw_cell='clf = RandomForestClassifier(n_jobs = -1)\\n\\nparam...e()\\nprint(results)\\nprint(grid_search.best_score_)', store_history=True, silent=False, shell_futures=True)\n   2780                 self.displayhook.exec_result = result\n   2781 \n   2782                 # Execute the user code\n   2783                 interactivity = 'none' if silent else self.ast_node_interactivity\n   2784                 has_raised = self.run_ast_nodes(code_ast.body, cell_name,\n-> 2785                    interactivity=interactivity, compiler=compiler, result=result)\n        interactivity = 'last_expr'\n        compiler = <IPython.core.compilerop.CachingCompiler object>\n   2786                 \n   2787                 self.last_execution_succeeded = not has_raised\n   2788                 self.last_execution_result = result\n   2789 \n\n...........................................................................\nC:\\Users\\elodi\\Anaconda3\\lib\\site-packages\\IPython\\core\\interactiveshell.py in run_ast_nodes(self=<ipykernel.zmqshell.ZMQInteractiveShell object>, nodelist=[<_ast.Assign object>, <_ast.Assign object>, <_ast.Assign object>, <_ast.Assign object>, <_ast.Assign object>, <_ast.Expr object>, <_ast.Assign object>, <_ast.Expr object>, <_ast.Assign object>, <_ast.Expr object>, <_ast.Expr object>], cell_name='<ipython-input-35-8a48ecab90fd>', interactivity='last', compiler=<IPython.core.compilerop.CachingCompiler object>, result=<ExecutionResult object at 23d00a44c18, executio...rue silent=False shell_futures=True> result=None>)\n   2898 \n   2899         try:\n   2900             for i, node in enumerate(to_run_exec):\n   2901                 mod = ast.Module([node])\n   2902                 code = compiler(mod, cell_name, \"exec\")\n-> 2903                 if self.run_code(code, result):\n        self.run_code = <bound method InteractiveShell.run_code of <ipykernel.zmqshell.ZMQInteractiveShell object>>\n        code = <code object <module> at 0x0000023D00A45810, file \"<ipython-input-35-8a48ecab90fd>\", line 27>\n        result = <ExecutionResult object at 23d00a44c18, executio...rue silent=False shell_futures=True> result=None>\n   2904                     return True\n   2905 \n   2906             for i, node in enumerate(to_run_interactive):\n   2907                 mod = ast.Interactive([node])\n\n...........................................................................\nC:\\Users\\elodi\\Anaconda3\\lib\\site-packages\\IPython\\core\\interactiveshell.py in run_code(self=<ipykernel.zmqshell.ZMQInteractiveShell object>, code_obj=<code object <module> at 0x0000023D00A45810, file \"<ipython-input-35-8a48ecab90fd>\", line 27>, result=<ExecutionResult object at 23d00a44c18, executio...rue silent=False shell_futures=True> result=None>)\n   2958         outflag = True  # happens in more places, so it's easier as default\n   2959         try:\n   2960             try:\n   2961                 self.hooks.pre_run_code_hook()\n   2962                 #rprint('Running code', repr(code_obj)) # dbg\n-> 2963                 exec(code_obj, self.user_global_ns, self.user_ns)\n        code_obj = <code object <module> at 0x0000023D00A45810, file \"<ipython-input-35-8a48ecab90fd>\", line 27>\n        self.user_global_ns = {'DecisionTreeClassifier': <class 'sklearn.tree.tree.DecisionTreeClassifier'>, 'GaussianNB': <class 'sklearn.naive_bayes.GaussianNB'>, 'GridSearchCV': <class 'sklearn.model_selection._search.GridSearchCV'>, 'In': ['', 'import matplotlib.pyplot as plt\\nimport numpy as ...m sklearn.model_selection import train_test_split', 'path_to_csv = \"kdd.txt\"\\n\\ndf = pd.read_csv(path_to_csv, header = None)', \"df.rename(columns={0: 'duration', \\n             ...    41: 'type'\\n                  }, inplace=True)\", 'df.head()', \"group_by = df.groupby(['type']).size().reset_index(name='counts')\", \"n_groups = df['type'].nunique()\", 'df.dtypes', \"types = group_by['type']\\ncount_by_type = group_b...title('Connexion types repartition')\\n \\nplt.show()\", 'NULL = df.isnull().sum()\\nNA = df.isna().sum()\\nNA....T\\nNA_NULL.columns = [\"nb_NA\", \"nb_NULL\"]\\nNA_NULL', '#Ce avec quoi on va predire\\nX = df.loc[:, df.col...drop(\"service\", 1)\\nX = X.drop(\"flag\", 1)\\nX.head()', '#Ce que l\\'on veut predire\\nY = df[\"type\"]\\nY.head()', '#Séparation en jeu de test et de train \\nX_train,... Y_test = train_test_split(X, Y, test_size = 0.3)', '#Séparation en jeu de test et de validation \\nX_t...train_test_split(X_test, Y_test, test_size = 0.3)', 'from sklearn.ensemble import RandomForestClassifier', 'hyperparametres = {\"n_estimators\" : 20, \\n       ...n fait un dictionnaire avec les hypers paramètres', 'algo = RandomForestClassifier(**hyperparametres)', '#Entrainement du modèle\\nmodele = algo.fit(X_train, Y_train)', 'modele.score(X_test, Y_test)', 'from sklearn.naive_bayes import GaussianNB', ...], 'NA': duration                       0\nprotocol_type  ...  0\ntype                           0\ndtype: int64, 'NA_NULL':                              nb_NA  nb_NULL\ndura...    0\ntype                             0        0, 'NULL': duration                       0\nprotocol_type  ...  0\ntype                           0\ndtype: int64, 'Out': {4:    duration protocol_type service flag  src_byte...            0.0  normal.  \n\n[5 rows x 42 columns], 7: duration                         int64\nprotocol_...e                            object\ndtype: object, 9:                              nb_NA  nb_NULL\ndura...    0\ntype                             0        0, 10:    duration  src_bytes  dst_bytes  land  wrong_f...                     0.0  \n\n[5 rows x 38 columns], 11: 0    normal.\n1    normal.\n2    normal.\n3    normal.\n4    normal.\nName: type, dtype: object, 18: 0.9997493830968538, 22: 0.9498380629241209, 26: 0.999363818630475, 28: array(['normal.', 'smurf.', 'normal.', ..., 'normal.', 'normal.',\n       'neptune.'], dtype=object), 31: array([[0.000e+00, 9.311e+03, 0.000e+00, ..., 0...., ..., 1.000e+00, 0.000e+00,\n        0.000e+00]]), ...}, 'RandomForestClassifier': <class 'sklearn.ensemble.forest.RandomForestClassifier'>, 'StratifiedKFold': <class 'sklearn.model_selection._split.StratifiedKFold'>, ...}\n        self.user_ns = {'DecisionTreeClassifier': <class 'sklearn.tree.tree.DecisionTreeClassifier'>, 'GaussianNB': <class 'sklearn.naive_bayes.GaussianNB'>, 'GridSearchCV': <class 'sklearn.model_selection._search.GridSearchCV'>, 'In': ['', 'import matplotlib.pyplot as plt\\nimport numpy as ...m sklearn.model_selection import train_test_split', 'path_to_csv = \"kdd.txt\"\\n\\ndf = pd.read_csv(path_to_csv, header = None)', \"df.rename(columns={0: 'duration', \\n             ...    41: 'type'\\n                  }, inplace=True)\", 'df.head()', \"group_by = df.groupby(['type']).size().reset_index(name='counts')\", \"n_groups = df['type'].nunique()\", 'df.dtypes', \"types = group_by['type']\\ncount_by_type = group_b...title('Connexion types repartition')\\n \\nplt.show()\", 'NULL = df.isnull().sum()\\nNA = df.isna().sum()\\nNA....T\\nNA_NULL.columns = [\"nb_NA\", \"nb_NULL\"]\\nNA_NULL', '#Ce avec quoi on va predire\\nX = df.loc[:, df.col...drop(\"service\", 1)\\nX = X.drop(\"flag\", 1)\\nX.head()', '#Ce que l\\'on veut predire\\nY = df[\"type\"]\\nY.head()', '#Séparation en jeu de test et de train \\nX_train,... Y_test = train_test_split(X, Y, test_size = 0.3)', '#Séparation en jeu de test et de validation \\nX_t...train_test_split(X_test, Y_test, test_size = 0.3)', 'from sklearn.ensemble import RandomForestClassifier', 'hyperparametres = {\"n_estimators\" : 20, \\n       ...n fait un dictionnaire avec les hypers paramètres', 'algo = RandomForestClassifier(**hyperparametres)', '#Entrainement du modèle\\nmodele = algo.fit(X_train, Y_train)', 'modele.score(X_test, Y_test)', 'from sklearn.naive_bayes import GaussianNB', ...], 'NA': duration                       0\nprotocol_type  ...  0\ntype                           0\ndtype: int64, 'NA_NULL':                              nb_NA  nb_NULL\ndura...    0\ntype                             0        0, 'NULL': duration                       0\nprotocol_type  ...  0\ntype                           0\ndtype: int64, 'Out': {4:    duration protocol_type service flag  src_byte...            0.0  normal.  \n\n[5 rows x 42 columns], 7: duration                         int64\nprotocol_...e                            object\ndtype: object, 9:                              nb_NA  nb_NULL\ndura...    0\ntype                             0        0, 10:    duration  src_bytes  dst_bytes  land  wrong_f...                     0.0  \n\n[5 rows x 38 columns], 11: 0    normal.\n1    normal.\n2    normal.\n3    normal.\n4    normal.\nName: type, dtype: object, 18: 0.9997493830968538, 22: 0.9498380629241209, 26: 0.999363818630475, 28: array(['normal.', 'smurf.', 'normal.', ..., 'normal.', 'normal.',\n       'neptune.'], dtype=object), 31: array([[0.000e+00, 9.311e+03, 0.000e+00, ..., 0...., ..., 1.000e+00, 0.000e+00,\n        0.000e+00]]), ...}, 'RandomForestClassifier': <class 'sklearn.ensemble.forest.RandomForestClassifier'>, 'StratifiedKFold': <class 'sklearn.model_selection._split.StratifiedKFold'>, ...}\n   2964             finally:\n   2965                 # Reset our crash handler in place\n   2966                 sys.excepthook = old_excepthook\n   2967         except SystemExit as e:\n\n...........................................................................\nC:\\Users\\elodi\\Documents\\Cours\\ESILV\\A5\\Python_for_data_analysis\\data-science-esilv\\<ipython-input-35-8a48ecab90fd> in <module>()\n     22                            refit=\"precision_score\", \n     23                            cv=skf, \n     24                            return_train_score=True, \n     25                            n_jobs=-1)\n     26 \n---> 27 grid_search.fit(X_train.values, Y_train.values)\n     28 y_pred = grid_search.predict(X_test.values)\n     29 #print('Best params for {}'.format(refit_score))\n     30 print(grid_search.best_params_)\n     31 \n\n...........................................................................\nC:\\Users\\elodi\\Anaconda3\\lib\\site-packages\\sklearn\\model_selection\\_search.py in fit(self=GridSearchCV(cv=StratifiedKFold(n_splits=2, rand...: make_scorer(accuracy_score)},\n       verbose=0), X=array([[0.000e+00, 1.032e+03, 0.000e+00, ..., 0...., ..., 0.000e+00, 0.000e+00,\n        0.000e+00]]), y=array(['smurf.', 'smurf.', 'smurf.', ..., 'normal.', 'neptune.', 'pod.'],\n      dtype=object), groups=None, **fit_params={})\n    634                                   return_train_score=self.return_train_score,\n    635                                   return_n_test_samples=True,\n    636                                   return_times=True, return_parameters=False,\n    637                                   error_score=self.error_score)\n    638           for parameters, (train, test) in product(candidate_params,\n--> 639                                                    cv.split(X, y, groups)))\n        cv.split = <bound method StratifiedKFold.split of Stratifie...ld(n_splits=2, random_state=None, shuffle=False)>\n        X = array([[0.000e+00, 1.032e+03, 0.000e+00, ..., 0...., ..., 0.000e+00, 0.000e+00,\n        0.000e+00]])\n        y = array(['smurf.', 'smurf.', 'smurf.', ..., 'normal.', 'neptune.', 'pod.'],\n      dtype=object)\n        groups = None\n    640 \n    641         # if one choose to see train score, \"out\" will contain train score info\n    642         if self.return_train_score:\n    643             (train_score_dicts, test_score_dicts, test_sample_counts, fit_time,\n\n...........................................................................\nC:\\Users\\elodi\\Anaconda3\\lib\\site-packages\\sklearn\\externals\\joblib\\parallel.py in __call__(self=Parallel(n_jobs=-1), iterable=<generator object BaseSearchCV.fit.<locals>.<genexpr>>)\n    784             if pre_dispatch == \"all\" or n_jobs == 1:\n    785                 # The iterable was consumed all at once by the above for loop.\n    786                 # No need to wait for async callbacks to trigger to\n    787                 # consumption.\n    788                 self._iterating = False\n--> 789             self.retrieve()\n        self.retrieve = <bound method Parallel.retrieve of Parallel(n_jobs=-1)>\n    790             # Make sure that we get a last message telling us we are done\n    791             elapsed_time = time.time() - self._start_time\n    792             self._print('Done %3i out of %3i | elapsed: %s finished',\n    793                         (len(self._output), len(self._output),\n\n---------------------------------------------------------------------------\nSub-process traceback:\n---------------------------------------------------------------------------\nValueError                                         Thu Feb 14 13:54:24 2019\nPID: 9972                 Python 3.6.5: C:\\Users\\elodi\\Anaconda3\\python.exe\n...........................................................................\nC:\\Users\\elodi\\Anaconda3\\lib\\site-packages\\sklearn\\externals\\joblib\\parallel.py in __call__(self=<sklearn.externals.joblib.parallel.BatchedCalls object>)\n    126     def __init__(self, iterator_slice):\n    127         self.items = list(iterator_slice)\n    128         self._size = len(self.items)\n    129 \n    130     def __call__(self):\n--> 131         return [func(*args, **kwargs) for func, args, kwargs in self.items]\n        self.items = [(<function _fit_and_score>, (RandomForestClassifier(bootstrap=True, class_wei...te=None, verbose=0,\n            warm_start=False), memmap([[0.000e+00, 1.032e+03, 0.000e+00, ..., 0... ..., 0.000e+00, 0.000e+00,\n         0.000e+00]]), array(['smurf.', 'smurf.', 'smurf.', ..., 'normal.', 'neptune.', 'pod.'],\n      dtype=object), {'accuracy_score': make_scorer(accuracy_score), 'precision_score': make_scorer(precision_score), 'recall_score': make_scorer(recall_score)}, array([136980, 150907, 151167, ..., 345811, 345812, 345813]), array([     0,      1,      2, ..., 235067, 250337, 292781]), 0, {'criterion': 'gini', 'max_depth': 3, 'max_features': 3, 'min_samples_split': 3, 'n_estimators': 40}), {'error_score': 'raise', 'fit_params': {}, 'return_n_test_samples': True, 'return_parameters': False, 'return_times': True, 'return_train_score': True})]\n    132 \n    133     def __len__(self):\n    134         return self._size\n    135 \n\n...........................................................................\nC:\\Users\\elodi\\Anaconda3\\lib\\site-packages\\sklearn\\externals\\joblib\\parallel.py in <listcomp>(.0=<list_iterator object>)\n    126     def __init__(self, iterator_slice):\n    127         self.items = list(iterator_slice)\n    128         self._size = len(self.items)\n    129 \n    130     def __call__(self):\n--> 131         return [func(*args, **kwargs) for func, args, kwargs in self.items]\n        func = <function _fit_and_score>\n        args = (RandomForestClassifier(bootstrap=True, class_wei...te=None, verbose=0,\n            warm_start=False), memmap([[0.000e+00, 1.032e+03, 0.000e+00, ..., 0... ..., 0.000e+00, 0.000e+00,\n         0.000e+00]]), array(['smurf.', 'smurf.', 'smurf.', ..., 'normal.', 'neptune.', 'pod.'],\n      dtype=object), {'accuracy_score': make_scorer(accuracy_score), 'precision_score': make_scorer(precision_score), 'recall_score': make_scorer(recall_score)}, array([136980, 150907, 151167, ..., 345811, 345812, 345813]), array([     0,      1,      2, ..., 235067, 250337, 292781]), 0, {'criterion': 'gini', 'max_depth': 3, 'max_features': 3, 'min_samples_split': 3, 'n_estimators': 40})\n        kwargs = {'error_score': 'raise', 'fit_params': {}, 'return_n_test_samples': True, 'return_parameters': False, 'return_times': True, 'return_train_score': True}\n    132 \n    133     def __len__(self):\n    134         return self._size\n    135 \n\n...........................................................................\nC:\\Users\\elodi\\Anaconda3\\lib\\site-packages\\sklearn\\model_selection\\_validation.py in _fit_and_score(estimator=RandomForestClassifier(bootstrap=True, class_wei...te=None, verbose=0,\n            warm_start=False), X=memmap([[0.000e+00, 1.032e+03, 0.000e+00, ..., 0... ..., 0.000e+00, 0.000e+00,\n         0.000e+00]]), y=array(['smurf.', 'smurf.', 'smurf.', ..., 'normal.', 'neptune.', 'pod.'],\n      dtype=object), scorer={'accuracy_score': make_scorer(accuracy_score), 'precision_score': make_scorer(precision_score), 'recall_score': make_scorer(recall_score)}, train=array([136980, 150907, 151167, ..., 345811, 345812, 345813]), test=array([     0,      1,      2, ..., 235067, 250337, 292781]), verbose=0, parameters={'criterion': 'gini', 'max_depth': 3, 'max_features': 3, 'min_samples_split': 3, 'n_estimators': 40}, fit_params={}, return_train_score=True, return_parameters=False, return_n_test_samples=True, return_times=True, error_score='raise')\n    483                              \" make sure that it has been spelled correctly.)\")\n    484 \n    485     else:\n    486         fit_time = time.time() - start_time\n    487         # _score will return dict if is_multimetric is True\n--> 488         test_scores = _score(estimator, X_test, y_test, scorer, is_multimetric)\n        test_scores = {}\n        estimator = RandomForestClassifier(bootstrap=True, class_wei...te=None, verbose=0,\n            warm_start=False)\n        X_test = memmap([[0.000e+00, 1.032e+03, 0.000e+00, ..., 0... ..., 3.100e-01, 0.000e+00,\n         0.000e+00]])\n        y_test = array(['smurf.', 'smurf.', 'smurf.', ..., 'loadm...e.', 'loadmodule.',\n       'spy.'], dtype=object)\n        scorer = {'accuracy_score': make_scorer(accuracy_score), 'precision_score': make_scorer(precision_score), 'recall_score': make_scorer(recall_score)}\n        is_multimetric = True\n    489         score_time = time.time() - start_time - fit_time\n    490         if return_train_score:\n    491             train_scores = _score(estimator, X_train, y_train, scorer,\n    492                                   is_multimetric)\n\n...........................................................................\nC:\\Users\\elodi\\Anaconda3\\lib\\site-packages\\sklearn\\model_selection\\_validation.py in _score(estimator=RandomForestClassifier(bootstrap=True, class_wei...te=None, verbose=0,\n            warm_start=False), X_test=memmap([[0.000e+00, 1.032e+03, 0.000e+00, ..., 0... ..., 3.100e-01, 0.000e+00,\n         0.000e+00]]), y_test=array(['smurf.', 'smurf.', 'smurf.', ..., 'loadm...e.', 'loadmodule.',\n       'spy.'], dtype=object), scorer={'accuracy_score': make_scorer(accuracy_score), 'precision_score': make_scorer(precision_score), 'recall_score': make_scorer(recall_score)}, is_multimetric=True)\n    518 \n    519     Will return a single float if is_multimetric is False and a dict of floats,\n    520     if is_multimetric is True\n    521     \"\"\"\n    522     if is_multimetric:\n--> 523         return _multimetric_score(estimator, X_test, y_test, scorer)\n        estimator = RandomForestClassifier(bootstrap=True, class_wei...te=None, verbose=0,\n            warm_start=False)\n        X_test = memmap([[0.000e+00, 1.032e+03, 0.000e+00, ..., 0... ..., 3.100e-01, 0.000e+00,\n         0.000e+00]])\n        y_test = array(['smurf.', 'smurf.', 'smurf.', ..., 'loadm...e.', 'loadmodule.',\n       'spy.'], dtype=object)\n        scorer = {'accuracy_score': make_scorer(accuracy_score), 'precision_score': make_scorer(precision_score), 'recall_score': make_scorer(recall_score)}\n    524     else:\n    525         if y_test is None:\n    526             score = scorer(estimator, X_test)\n    527         else:\n\n...........................................................................\nC:\\Users\\elodi\\Anaconda3\\lib\\site-packages\\sklearn\\model_selection\\_validation.py in _multimetric_score(estimator=RandomForestClassifier(bootstrap=True, class_wei...te=None, verbose=0,\n            warm_start=False), X_test=memmap([[0.000e+00, 1.032e+03, 0.000e+00, ..., 0... ..., 3.100e-01, 0.000e+00,\n         0.000e+00]]), y_test=array(['smurf.', 'smurf.', 'smurf.', ..., 'loadm...e.', 'loadmodule.',\n       'spy.'], dtype=object), scorers={'accuracy_score': make_scorer(accuracy_score), 'precision_score': make_scorer(precision_score), 'recall_score': make_scorer(recall_score)})\n    548 \n    549     for name, scorer in scorers.items():\n    550         if y_test is None:\n    551             score = scorer(estimator, X_test)\n    552         else:\n--> 553             score = scorer(estimator, X_test, y_test)\n        score = undefined\n        scorer = make_scorer(precision_score)\n        estimator = RandomForestClassifier(bootstrap=True, class_wei...te=None, verbose=0,\n            warm_start=False)\n        X_test = memmap([[0.000e+00, 1.032e+03, 0.000e+00, ..., 0... ..., 3.100e-01, 0.000e+00,\n         0.000e+00]])\n        y_test = array(['smurf.', 'smurf.', 'smurf.', ..., 'loadm...e.', 'loadmodule.',\n       'spy.'], dtype=object)\n    554 \n    555         if hasattr(score, 'item'):\n    556             try:\n    557                 # e.g. unwrap memmapped scalars\n\n...........................................................................\nC:\\Users\\elodi\\Anaconda3\\lib\\site-packages\\sklearn\\metrics\\scorer.py in __call__(self=make_scorer(precision_score), estimator=RandomForestClassifier(bootstrap=True, class_wei...te=None, verbose=0,\n            warm_start=False), X=memmap([[0.000e+00, 1.032e+03, 0.000e+00, ..., 0... ..., 3.100e-01, 0.000e+00,\n         0.000e+00]]), y_true=array(['smurf.', 'smurf.', 'smurf.', ..., 'loadm...e.', 'loadmodule.',\n       'spy.'], dtype=object), sample_weight=None)\n    103             return self._sign * self._score_func(y_true, y_pred,\n    104                                                  sample_weight=sample_weight,\n    105                                                  **self._kwargs)\n    106         else:\n    107             return self._sign * self._score_func(y_true, y_pred,\n--> 108                                                  **self._kwargs)\n        self._kwargs = {}\n    109 \n    110 \n    111 class _ProbaScorer(_BaseScorer):\n    112     def __call__(self, clf, X, y, sample_weight=None):\n\n...........................................................................\nC:\\Users\\elodi\\Anaconda3\\lib\\site-packages\\sklearn\\metrics\\classification.py in precision_score(y_true=array(['smurf.', 'smurf.', 'smurf.', ..., 'loadm...e.', 'loadmodule.',\n       'spy.'], dtype=object), y_pred=array(['smurf.', 'smurf.', 'smurf.', ..., 'normal.', 'normal.', 'normal.'],\n      dtype=object), labels=None, pos_label=1, average='binary', sample_weight=None)\n   1256     p, _, _, _ = precision_recall_fscore_support(y_true, y_pred,\n   1257                                                  labels=labels,\n   1258                                                  pos_label=pos_label,\n   1259                                                  average=average,\n   1260                                                  warn_for=('precision',),\n-> 1261                                                  sample_weight=sample_weight)\n        sample_weight = None\n   1262     return p\n   1263 \n   1264 \n   1265 def recall_score(y_true, y_pred, labels=None, pos_label=1, average='binary',\n\n...........................................................................\nC:\\Users\\elodi\\Anaconda3\\lib\\site-packages\\sklearn\\metrics\\classification.py in precision_recall_fscore_support(y_true=array(['smurf.', 'smurf.', 'smurf.', ..., 'loadm...e.', 'loadmodule.',\n       'spy.'], dtype=object), y_pred=array(['smurf.', 'smurf.', 'smurf.', ..., 'normal.', 'normal.', 'normal.'],\n      dtype=object), beta=1.0, labels=None, pos_label=1, average='binary', warn_for=('precision',), sample_weight=None)\n   1035                     raise ValueError(\"pos_label=%r is not a valid label: %r\" %\n   1036                                      (pos_label, present_labels))\n   1037             labels = [pos_label]\n   1038         else:\n   1039             raise ValueError(\"Target is %s but average='binary'. Please \"\n-> 1040                              \"choose another average setting.\" % y_type)\n        y_type = 'multiclass'\n   1041     elif pos_label not in (None, 1):\n   1042         warnings.warn(\"Note that pos_label (set to %r) is ignored when \"\n   1043                       \"average != 'binary' (got %r). You may use \"\n   1044                       \"labels=[pos_label] to specify a single positive class.\"\n\nValueError: Target is multiclass but average='binary'. Please choose another average setting.\n___________________________________________________________________________",
     "output_type": "error",
     "traceback": [
      "\u001b[1;31m---------------------------------------------------------------------------\u001b[0m",
      "\u001b[1;31mRemoteTraceback\u001b[0m                           Traceback (most recent call last)",
      "\u001b[1;31mRemoteTraceback\u001b[0m: \n\"\"\"\nTraceback (most recent call last):\n  File \"C:\\Users\\elodi\\Anaconda3\\lib\\site-packages\\sklearn\\externals\\joblib\\_parallel_backends.py\", line 350, in __call__\n    return self.func(*args, **kwargs)\n  File \"C:\\Users\\elodi\\Anaconda3\\lib\\site-packages\\sklearn\\externals\\joblib\\parallel.py\", line 131, in __call__\n    return [func(*args, **kwargs) for func, args, kwargs in self.items]\n  File \"C:\\Users\\elodi\\Anaconda3\\lib\\site-packages\\sklearn\\externals\\joblib\\parallel.py\", line 131, in <listcomp>\n    return [func(*args, **kwargs) for func, args, kwargs in self.items]\n  File \"C:\\Users\\elodi\\Anaconda3\\lib\\site-packages\\sklearn\\model_selection\\_validation.py\", line 488, in _fit_and_score\n    test_scores = _score(estimator, X_test, y_test, scorer, is_multimetric)\n  File \"C:\\Users\\elodi\\Anaconda3\\lib\\site-packages\\sklearn\\model_selection\\_validation.py\", line 523, in _score\n    return _multimetric_score(estimator, X_test, y_test, scorer)\n  File \"C:\\Users\\elodi\\Anaconda3\\lib\\site-packages\\sklearn\\model_selection\\_validation.py\", line 553, in _multimetric_score\n    score = scorer(estimator, X_test, y_test)\n  File \"C:\\Users\\elodi\\Anaconda3\\lib\\site-packages\\sklearn\\metrics\\scorer.py\", line 108, in __call__\n    **self._kwargs)\n  File \"C:\\Users\\elodi\\Anaconda3\\lib\\site-packages\\sklearn\\metrics\\classification.py\", line 1261, in precision_score\n    sample_weight=sample_weight)\n  File \"C:\\Users\\elodi\\Anaconda3\\lib\\site-packages\\sklearn\\metrics\\classification.py\", line 1040, in precision_recall_fscore_support\n    \"choose another average setting.\" % y_type)\nValueError: Target is multiclass but average='binary'. Please choose another average setting.\n\nDuring handling of the above exception, another exception occurred:\n\nTraceback (most recent call last):\n  File \"C:\\Users\\elodi\\Anaconda3\\lib\\multiprocessing\\pool.py\", line 119, in worker\n    result = (True, func(*args, **kwds))\n  File \"C:\\Users\\elodi\\Anaconda3\\lib\\site-packages\\sklearn\\externals\\joblib\\_parallel_backends.py\", line 359, in __call__\n    raise TransportableException(text, e_type)\nsklearn.externals.joblib.my_exceptions.TransportableException: TransportableException\n___________________________________________________________________________\nValueError                                         Thu Feb 14 13:54:24 2019\nPID: 9972                 Python 3.6.5: C:\\Users\\elodi\\Anaconda3\\python.exe\n...........................................................................\nC:\\Users\\elodi\\Anaconda3\\lib\\site-packages\\sklearn\\externals\\joblib\\parallel.py in __call__(self=<sklearn.externals.joblib.parallel.BatchedCalls object>)\n    126     def __init__(self, iterator_slice):\n    127         self.items = list(iterator_slice)\n    128         self._size = len(self.items)\n    129 \n    130     def __call__(self):\n--> 131         return [func(*args, **kwargs) for func, args, kwargs in self.items]\n        self.items = [(<function _fit_and_score>, (RandomForestClassifier(bootstrap=True, class_wei...te=None, verbose=0,\n            warm_start=False), memmap([[0.000e+00, 1.032e+03, 0.000e+00, ..., 0... ..., 0.000e+00, 0.000e+00,\n         0.000e+00]]), array(['smurf.', 'smurf.', 'smurf.', ..., 'normal.', 'neptune.', 'pod.'],\n      dtype=object), {'accuracy_score': make_scorer(accuracy_score), 'precision_score': make_scorer(precision_score), 'recall_score': make_scorer(recall_score)}, array([136980, 150907, 151167, ..., 345811, 345812, 345813]), array([     0,      1,      2, ..., 235067, 250337, 292781]), 0, {'criterion': 'gini', 'max_depth': 3, 'max_features': 3, 'min_samples_split': 3, 'n_estimators': 40}), {'error_score': 'raise', 'fit_params': {}, 'return_n_test_samples': True, 'return_parameters': False, 'return_times': True, 'return_train_score': True})]\n    132 \n    133     def __len__(self):\n    134         return self._size\n    135 \n\n...........................................................................\nC:\\Users\\elodi\\Anaconda3\\lib\\site-packages\\sklearn\\externals\\joblib\\parallel.py in <listcomp>(.0=<list_iterator object>)\n    126     def __init__(self, iterator_slice):\n    127         self.items = list(iterator_slice)\n    128         self._size = len(self.items)\n    129 \n    130     def __call__(self):\n--> 131         return [func(*args, **kwargs) for func, args, kwargs in self.items]\n        func = <function _fit_and_score>\n        args = (RandomForestClassifier(bootstrap=True, class_wei...te=None, verbose=0,\n            warm_start=False), memmap([[0.000e+00, 1.032e+03, 0.000e+00, ..., 0... ..., 0.000e+00, 0.000e+00,\n         0.000e+00]]), array(['smurf.', 'smurf.', 'smurf.', ..., 'normal.', 'neptune.', 'pod.'],\n      dtype=object), {'accuracy_score': make_scorer(accuracy_score), 'precision_score': make_scorer(precision_score), 'recall_score': make_scorer(recall_score)}, array([136980, 150907, 151167, ..., 345811, 345812, 345813]), array([     0,      1,      2, ..., 235067, 250337, 292781]), 0, {'criterion': 'gini', 'max_depth': 3, 'max_features': 3, 'min_samples_split': 3, 'n_estimators': 40})\n        kwargs = {'error_score': 'raise', 'fit_params': {}, 'return_n_test_samples': True, 'return_parameters': False, 'return_times': True, 'return_train_score': True}\n    132 \n    133     def __len__(self):\n    134         return self._size\n    135 \n\n...........................................................................\nC:\\Users\\elodi\\Anaconda3\\lib\\site-packages\\sklearn\\model_selection\\_validation.py in _fit_and_score(estimator=RandomForestClassifier(bootstrap=True, class_wei...te=None, verbose=0,\n            warm_start=False), X=memmap([[0.000e+00, 1.032e+03, 0.000e+00, ..., 0... ..., 0.000e+00, 0.000e+00,\n         0.000e+00]]), y=array(['smurf.', 'smurf.', 'smurf.', ..., 'normal.', 'neptune.', 'pod.'],\n      dtype=object), scorer={'accuracy_score': make_scorer(accuracy_score), 'precision_score': make_scorer(precision_score), 'recall_score': make_scorer(recall_score)}, train=array([136980, 150907, 151167, ..., 345811, 345812, 345813]), test=array([     0,      1,      2, ..., 235067, 250337, 292781]), verbose=0, parameters={'criterion': 'gini', 'max_depth': 3, 'max_features': 3, 'min_samples_split': 3, 'n_estimators': 40}, fit_params={}, return_train_score=True, return_parameters=False, return_n_test_samples=True, return_times=True, error_score='raise')\n    483                              \" make sure that it has been spelled correctly.)\")\n    484 \n    485     else:\n    486         fit_time = time.time() - start_time\n    487         # _score will return dict if is_multimetric is True\n--> 488         test_scores = _score(estimator, X_test, y_test, scorer, is_multimetric)\n        test_scores = {}\n        estimator = RandomForestClassifier(bootstrap=True, class_wei...te=None, verbose=0,\n            warm_start=False)\n        X_test = memmap([[0.000e+00, 1.032e+03, 0.000e+00, ..., 0... ..., 3.100e-01, 0.000e+00,\n         0.000e+00]])\n        y_test = array(['smurf.', 'smurf.', 'smurf.', ..., 'loadm...e.', 'loadmodule.',\n       'spy.'], dtype=object)\n        scorer = {'accuracy_score': make_scorer(accuracy_score), 'precision_score': make_scorer(precision_score), 'recall_score': make_scorer(recall_score)}\n        is_multimetric = True\n    489         score_time = time.time() - start_time - fit_time\n    490         if return_train_score:\n    491             train_scores = _score(estimator, X_train, y_train, scorer,\n    492                                   is_multimetric)\n\n...........................................................................\nC:\\Users\\elodi\\Anaconda3\\lib\\site-packages\\sklearn\\model_selection\\_validation.py in _score(estimator=RandomForestClassifier(bootstrap=True, class_wei...te=None, verbose=0,\n            warm_start=False), X_test=memmap([[0.000e+00, 1.032e+03, 0.000e+00, ..., 0... ..., 3.100e-01, 0.000e+00,\n         0.000e+00]]), y_test=array(['smurf.', 'smurf.', 'smurf.', ..., 'loadm...e.', 'loadmodule.',\n       'spy.'], dtype=object), scorer={'accuracy_score': make_scorer(accuracy_score), 'precision_score': make_scorer(precision_score), 'recall_score': make_scorer(recall_score)}, is_multimetric=True)\n    518 \n    519     Will return a single float if is_multimetric is False and a dict of floats,\n    520     if is_multimetric is True\n    521     \"\"\"\n    522     if is_multimetric:\n--> 523         return _multimetric_score(estimator, X_test, y_test, scorer)\n        estimator = RandomForestClassifier(bootstrap=True, class_wei...te=None, verbose=0,\n            warm_start=False)\n        X_test = memmap([[0.000e+00, 1.032e+03, 0.000e+00, ..., 0... ..., 3.100e-01, 0.000e+00,\n         0.000e+00]])\n        y_test = array(['smurf.', 'smurf.', 'smurf.', ..., 'loadm...e.', 'loadmodule.',\n       'spy.'], dtype=object)\n        scorer = {'accuracy_score': make_scorer(accuracy_score), 'precision_score': make_scorer(precision_score), 'recall_score': make_scorer(recall_score)}\n    524     else:\n    525         if y_test is None:\n    526             score = scorer(estimator, X_test)\n    527         else:\n\n...........................................................................\nC:\\Users\\elodi\\Anaconda3\\lib\\site-packages\\sklearn\\model_selection\\_validation.py in _multimetric_score(estimator=RandomForestClassifier(bootstrap=True, class_wei...te=None, verbose=0,\n            warm_start=False), X_test=memmap([[0.000e+00, 1.032e+03, 0.000e+00, ..., 0... ..., 3.100e-01, 0.000e+00,\n         0.000e+00]]), y_test=array(['smurf.', 'smurf.', 'smurf.', ..., 'loadm...e.', 'loadmodule.',\n       'spy.'], dtype=object), scorers={'accuracy_score': make_scorer(accuracy_score), 'precision_score': make_scorer(precision_score), 'recall_score': make_scorer(recall_score)})\n    548 \n    549     for name, scorer in scorers.items():\n    550         if y_test is None:\n    551             score = scorer(estimator, X_test)\n    552         else:\n--> 553             score = scorer(estimator, X_test, y_test)\n        score = undefined\n        scorer = make_scorer(precision_score)\n        estimator = RandomForestClassifier(bootstrap=True, class_wei...te=None, verbose=0,\n            warm_start=False)\n        X_test = memmap([[0.000e+00, 1.032e+03, 0.000e+00, ..., 0... ..., 3.100e-01, 0.000e+00,\n         0.000e+00]])\n        y_test = array(['smurf.', 'smurf.', 'smurf.', ..., 'loadm...e.', 'loadmodule.',\n       'spy.'], dtype=object)\n    554 \n    555         if hasattr(score, 'item'):\n    556             try:\n    557                 # e.g. unwrap memmapped scalars\n\n...........................................................................\nC:\\Users\\elodi\\Anaconda3\\lib\\site-packages\\sklearn\\metrics\\scorer.py in __call__(self=make_scorer(precision_score), estimator=RandomForestClassifier(bootstrap=True, class_wei...te=None, verbose=0,\n            warm_start=False), X=memmap([[0.000e+00, 1.032e+03, 0.000e+00, ..., 0... ..., 3.100e-01, 0.000e+00,\n         0.000e+00]]), y_true=array(['smurf.', 'smurf.', 'smurf.', ..., 'loadm...e.', 'loadmodule.',\n       'spy.'], dtype=object), sample_weight=None)\n    103             return self._sign * self._score_func(y_true, y_pred,\n    104                                                  sample_weight=sample_weight,\n    105                                                  **self._kwargs)\n    106         else:\n    107             return self._sign * self._score_func(y_true, y_pred,\n--> 108                                                  **self._kwargs)\n        self._kwargs = {}\n    109 \n    110 \n    111 class _ProbaScorer(_BaseScorer):\n    112     def __call__(self, clf, X, y, sample_weight=None):\n\n...........................................................................\nC:\\Users\\elodi\\Anaconda3\\lib\\site-packages\\sklearn\\metrics\\classification.py in precision_score(y_true=array(['smurf.', 'smurf.', 'smurf.', ..., 'loadm...e.', 'loadmodule.',\n       'spy.'], dtype=object), y_pred=array(['smurf.', 'smurf.', 'smurf.', ..., 'normal.', 'normal.', 'normal.'],\n      dtype=object), labels=None, pos_label=1, average='binary', sample_weight=None)\n   1256     p, _, _, _ = precision_recall_fscore_support(y_true, y_pred,\n   1257                                                  labels=labels,\n   1258                                                  pos_label=pos_label,\n   1259                                                  average=average,\n   1260                                                  warn_for=('precision',),\n-> 1261                                                  sample_weight=sample_weight)\n        sample_weight = None\n   1262     return p\n   1263 \n   1264 \n   1265 def recall_score(y_true, y_pred, labels=None, pos_label=1, average='binary',\n\n...........................................................................\nC:\\Users\\elodi\\Anaconda3\\lib\\site-packages\\sklearn\\metrics\\classification.py in precision_recall_fscore_support(y_true=array(['smurf.', 'smurf.', 'smurf.', ..., 'loadm...e.', 'loadmodule.',\n       'spy.'], dtype=object), y_pred=array(['smurf.', 'smurf.', 'smurf.', ..., 'normal.', 'normal.', 'normal.'],\n      dtype=object), beta=1.0, labels=None, pos_label=1, average='binary', warn_for=('precision',), sample_weight=None)\n   1035                     raise ValueError(\"pos_label=%r is not a valid label: %r\" %\n   1036                                      (pos_label, present_labels))\n   1037             labels = [pos_label]\n   1038         else:\n   1039             raise ValueError(\"Target is %s but average='binary'. Please \"\n-> 1040                              \"choose another average setting.\" % y_type)\n        y_type = 'multiclass'\n   1041     elif pos_label not in (None, 1):\n   1042         warnings.warn(\"Note that pos_label (set to %r) is ignored when \"\n   1043                       \"average != 'binary' (got %r). You may use \"\n   1044                       \"labels=[pos_label] to specify a single positive class.\"\n\nValueError: Target is multiclass but average='binary'. Please choose another average setting.\n___________________________________________________________________________\n\"\"\"",
      "\nThe above exception was the direct cause of the following exception:\n",
      "\u001b[1;31mTransportableException\u001b[0m                    Traceback (most recent call last)",
      "\u001b[1;32m~\\Anaconda3\\lib\\site-packages\\sklearn\\externals\\joblib\\parallel.py\u001b[0m in \u001b[0;36mretrieve\u001b[1;34m(self)\u001b[0m\n\u001b[0;32m    698\u001b[0m                 \u001b[1;32mif\u001b[0m \u001b[0mgetattr\u001b[0m\u001b[1;33m(\u001b[0m\u001b[0mself\u001b[0m\u001b[1;33m.\u001b[0m\u001b[0m_backend\u001b[0m\u001b[1;33m,\u001b[0m \u001b[1;34m'supports_timeout'\u001b[0m\u001b[1;33m,\u001b[0m \u001b[1;32mFalse\u001b[0m\u001b[1;33m)\u001b[0m\u001b[1;33m:\u001b[0m\u001b[1;33m\u001b[0m\u001b[0m\n\u001b[1;32m--> 699\u001b[1;33m                     \u001b[0mself\u001b[0m\u001b[1;33m.\u001b[0m\u001b[0m_output\u001b[0m\u001b[1;33m.\u001b[0m\u001b[0mextend\u001b[0m\u001b[1;33m(\u001b[0m\u001b[0mjob\u001b[0m\u001b[1;33m.\u001b[0m\u001b[0mget\u001b[0m\u001b[1;33m(\u001b[0m\u001b[0mtimeout\u001b[0m\u001b[1;33m=\u001b[0m\u001b[0mself\u001b[0m\u001b[1;33m.\u001b[0m\u001b[0mtimeout\u001b[0m\u001b[1;33m)\u001b[0m\u001b[1;33m)\u001b[0m\u001b[1;33m\u001b[0m\u001b[0m\n\u001b[0m\u001b[0;32m    700\u001b[0m                 \u001b[1;32melse\u001b[0m\u001b[1;33m:\u001b[0m\u001b[1;33m\u001b[0m\u001b[0m\n",
      "\u001b[1;32m~\\Anaconda3\\lib\\multiprocessing\\pool.py\u001b[0m in \u001b[0;36mget\u001b[1;34m(self, timeout)\u001b[0m\n\u001b[0;32m    643\u001b[0m         \u001b[1;32melse\u001b[0m\u001b[1;33m:\u001b[0m\u001b[1;33m\u001b[0m\u001b[0m\n\u001b[1;32m--> 644\u001b[1;33m             \u001b[1;32mraise\u001b[0m \u001b[0mself\u001b[0m\u001b[1;33m.\u001b[0m\u001b[0m_value\u001b[0m\u001b[1;33m\u001b[0m\u001b[0m\n\u001b[0m\u001b[0;32m    645\u001b[0m \u001b[1;33m\u001b[0m\u001b[0m\n",
      "\u001b[1;31mTransportableException\u001b[0m: TransportableException\n___________________________________________________________________________\nValueError                                         Thu Feb 14 13:54:24 2019\nPID: 9972                 Python 3.6.5: C:\\Users\\elodi\\Anaconda3\\python.exe\n...........................................................................\nC:\\Users\\elodi\\Anaconda3\\lib\\site-packages\\sklearn\\externals\\joblib\\parallel.py in __call__(self=<sklearn.externals.joblib.parallel.BatchedCalls object>)\n    126     def __init__(self, iterator_slice):\n    127         self.items = list(iterator_slice)\n    128         self._size = len(self.items)\n    129 \n    130     def __call__(self):\n--> 131         return [func(*args, **kwargs) for func, args, kwargs in self.items]\n        self.items = [(<function _fit_and_score>, (RandomForestClassifier(bootstrap=True, class_wei...te=None, verbose=0,\n            warm_start=False), memmap([[0.000e+00, 1.032e+03, 0.000e+00, ..., 0... ..., 0.000e+00, 0.000e+00,\n         0.000e+00]]), array(['smurf.', 'smurf.', 'smurf.', ..., 'normal.', 'neptune.', 'pod.'],\n      dtype=object), {'accuracy_score': make_scorer(accuracy_score), 'precision_score': make_scorer(precision_score), 'recall_score': make_scorer(recall_score)}, array([136980, 150907, 151167, ..., 345811, 345812, 345813]), array([     0,      1,      2, ..., 235067, 250337, 292781]), 0, {'criterion': 'gini', 'max_depth': 3, 'max_features': 3, 'min_samples_split': 3, 'n_estimators': 40}), {'error_score': 'raise', 'fit_params': {}, 'return_n_test_samples': True, 'return_parameters': False, 'return_times': True, 'return_train_score': True})]\n    132 \n    133     def __len__(self):\n    134         return self._size\n    135 \n\n...........................................................................\nC:\\Users\\elodi\\Anaconda3\\lib\\site-packages\\sklearn\\externals\\joblib\\parallel.py in <listcomp>(.0=<list_iterator object>)\n    126     def __init__(self, iterator_slice):\n    127         self.items = list(iterator_slice)\n    128         self._size = len(self.items)\n    129 \n    130     def __call__(self):\n--> 131         return [func(*args, **kwargs) for func, args, kwargs in self.items]\n        func = <function _fit_and_score>\n        args = (RandomForestClassifier(bootstrap=True, class_wei...te=None, verbose=0,\n            warm_start=False), memmap([[0.000e+00, 1.032e+03, 0.000e+00, ..., 0... ..., 0.000e+00, 0.000e+00,\n         0.000e+00]]), array(['smurf.', 'smurf.', 'smurf.', ..., 'normal.', 'neptune.', 'pod.'],\n      dtype=object), {'accuracy_score': make_scorer(accuracy_score), 'precision_score': make_scorer(precision_score), 'recall_score': make_scorer(recall_score)}, array([136980, 150907, 151167, ..., 345811, 345812, 345813]), array([     0,      1,      2, ..., 235067, 250337, 292781]), 0, {'criterion': 'gini', 'max_depth': 3, 'max_features': 3, 'min_samples_split': 3, 'n_estimators': 40})\n        kwargs = {'error_score': 'raise', 'fit_params': {}, 'return_n_test_samples': True, 'return_parameters': False, 'return_times': True, 'return_train_score': True}\n    132 \n    133     def __len__(self):\n    134         return self._size\n    135 \n\n...........................................................................\nC:\\Users\\elodi\\Anaconda3\\lib\\site-packages\\sklearn\\model_selection\\_validation.py in _fit_and_score(estimator=RandomForestClassifier(bootstrap=True, class_wei...te=None, verbose=0,\n            warm_start=False), X=memmap([[0.000e+00, 1.032e+03, 0.000e+00, ..., 0... ..., 0.000e+00, 0.000e+00,\n         0.000e+00]]), y=array(['smurf.', 'smurf.', 'smurf.', ..., 'normal.', 'neptune.', 'pod.'],\n      dtype=object), scorer={'accuracy_score': make_scorer(accuracy_score), 'precision_score': make_scorer(precision_score), 'recall_score': make_scorer(recall_score)}, train=array([136980, 150907, 151167, ..., 345811, 345812, 345813]), test=array([     0,      1,      2, ..., 235067, 250337, 292781]), verbose=0, parameters={'criterion': 'gini', 'max_depth': 3, 'max_features': 3, 'min_samples_split': 3, 'n_estimators': 40}, fit_params={}, return_train_score=True, return_parameters=False, return_n_test_samples=True, return_times=True, error_score='raise')\n    483                              \" make sure that it has been spelled correctly.)\")\n    484 \n    485     else:\n    486         fit_time = time.time() - start_time\n    487         # _score will return dict if is_multimetric is True\n--> 488         test_scores = _score(estimator, X_test, y_test, scorer, is_multimetric)\n        test_scores = {}\n        estimator = RandomForestClassifier(bootstrap=True, class_wei...te=None, verbose=0,\n            warm_start=False)\n        X_test = memmap([[0.000e+00, 1.032e+03, 0.000e+00, ..., 0... ..., 3.100e-01, 0.000e+00,\n         0.000e+00]])\n        y_test = array(['smurf.', 'smurf.', 'smurf.', ..., 'loadm...e.', 'loadmodule.',\n       'spy.'], dtype=object)\n        scorer = {'accuracy_score': make_scorer(accuracy_score), 'precision_score': make_scorer(precision_score), 'recall_score': make_scorer(recall_score)}\n        is_multimetric = True\n    489         score_time = time.time() - start_time - fit_time\n    490         if return_train_score:\n    491             train_scores = _score(estimator, X_train, y_train, scorer,\n    492                                   is_multimetric)\n\n...........................................................................\nC:\\Users\\elodi\\Anaconda3\\lib\\site-packages\\sklearn\\model_selection\\_validation.py in _score(estimator=RandomForestClassifier(bootstrap=True, class_wei...te=None, verbose=0,\n            warm_start=False), X_test=memmap([[0.000e+00, 1.032e+03, 0.000e+00, ..., 0... ..., 3.100e-01, 0.000e+00,\n         0.000e+00]]), y_test=array(['smurf.', 'smurf.', 'smurf.', ..., 'loadm...e.', 'loadmodule.',\n       'spy.'], dtype=object), scorer={'accuracy_score': make_scorer(accuracy_score), 'precision_score': make_scorer(precision_score), 'recall_score': make_scorer(recall_score)}, is_multimetric=True)\n    518 \n    519     Will return a single float if is_multimetric is False and a dict of floats,\n    520     if is_multimetric is True\n    521     \"\"\"\n    522     if is_multimetric:\n--> 523         return _multimetric_score(estimator, X_test, y_test, scorer)\n        estimator = RandomForestClassifier(bootstrap=True, class_wei...te=None, verbose=0,\n            warm_start=False)\n        X_test = memmap([[0.000e+00, 1.032e+03, 0.000e+00, ..., 0... ..., 3.100e-01, 0.000e+00,\n         0.000e+00]])\n        y_test = array(['smurf.', 'smurf.', 'smurf.', ..., 'loadm...e.', 'loadmodule.',\n       'spy.'], dtype=object)\n        scorer = {'accuracy_score': make_scorer(accuracy_score), 'precision_score': make_scorer(precision_score), 'recall_score': make_scorer(recall_score)}\n    524     else:\n    525         if y_test is None:\n    526             score = scorer(estimator, X_test)\n    527         else:\n\n...........................................................................\nC:\\Users\\elodi\\Anaconda3\\lib\\site-packages\\sklearn\\model_selection\\_validation.py in _multimetric_score(estimator=RandomForestClassifier(bootstrap=True, class_wei...te=None, verbose=0,\n            warm_start=False), X_test=memmap([[0.000e+00, 1.032e+03, 0.000e+00, ..., 0... ..., 3.100e-01, 0.000e+00,\n         0.000e+00]]), y_test=array(['smurf.', 'smurf.', 'smurf.', ..., 'loadm...e.', 'loadmodule.',\n       'spy.'], dtype=object), scorers={'accuracy_score': make_scorer(accuracy_score), 'precision_score': make_scorer(precision_score), 'recall_score': make_scorer(recall_score)})\n    548 \n    549     for name, scorer in scorers.items():\n    550         if y_test is None:\n    551             score = scorer(estimator, X_test)\n    552         else:\n--> 553             score = scorer(estimator, X_test, y_test)\n        score = undefined\n        scorer = make_scorer(precision_score)\n        estimator = RandomForestClassifier(bootstrap=True, class_wei...te=None, verbose=0,\n            warm_start=False)\n        X_test = memmap([[0.000e+00, 1.032e+03, 0.000e+00, ..., 0... ..., 3.100e-01, 0.000e+00,\n         0.000e+00]])\n        y_test = array(['smurf.', 'smurf.', 'smurf.', ..., 'loadm...e.', 'loadmodule.',\n       'spy.'], dtype=object)\n    554 \n    555         if hasattr(score, 'item'):\n    556             try:\n    557                 # e.g. unwrap memmapped scalars\n\n...........................................................................\nC:\\Users\\elodi\\Anaconda3\\lib\\site-packages\\sklearn\\metrics\\scorer.py in __call__(self=make_scorer(precision_score), estimator=RandomForestClassifier(bootstrap=True, class_wei...te=None, verbose=0,\n            warm_start=False), X=memmap([[0.000e+00, 1.032e+03, 0.000e+00, ..., 0... ..., 3.100e-01, 0.000e+00,\n         0.000e+00]]), y_true=array(['smurf.', 'smurf.', 'smurf.', ..., 'loadm...e.', 'loadmodule.',\n       'spy.'], dtype=object), sample_weight=None)\n    103             return self._sign * self._score_func(y_true, y_pred,\n    104                                                  sample_weight=sample_weight,\n    105                                                  **self._kwargs)\n    106         else:\n    107             return self._sign * self._score_func(y_true, y_pred,\n--> 108                                                  **self._kwargs)\n        self._kwargs = {}\n    109 \n    110 \n    111 class _ProbaScorer(_BaseScorer):\n    112     def __call__(self, clf, X, y, sample_weight=None):\n\n...........................................................................\nC:\\Users\\elodi\\Anaconda3\\lib\\site-packages\\sklearn\\metrics\\classification.py in precision_score(y_true=array(['smurf.', 'smurf.', 'smurf.', ..., 'loadm...e.', 'loadmodule.',\n       'spy.'], dtype=object), y_pred=array(['smurf.', 'smurf.', 'smurf.', ..., 'normal.', 'normal.', 'normal.'],\n      dtype=object), labels=None, pos_label=1, average='binary', sample_weight=None)\n   1256     p, _, _, _ = precision_recall_fscore_support(y_true, y_pred,\n   1257                                                  labels=labels,\n   1258                                                  pos_label=pos_label,\n   1259                                                  average=average,\n   1260                                                  warn_for=('precision',),\n-> 1261                                                  sample_weight=sample_weight)\n        sample_weight = None\n   1262     return p\n   1263 \n   1264 \n   1265 def recall_score(y_true, y_pred, labels=None, pos_label=1, average='binary',\n\n...........................................................................\nC:\\Users\\elodi\\Anaconda3\\lib\\site-packages\\sklearn\\metrics\\classification.py in precision_recall_fscore_support(y_true=array(['smurf.', 'smurf.', 'smurf.', ..., 'loadm...e.', 'loadmodule.',\n       'spy.'], dtype=object), y_pred=array(['smurf.', 'smurf.', 'smurf.', ..., 'normal.', 'normal.', 'normal.'],\n      dtype=object), beta=1.0, labels=None, pos_label=1, average='binary', warn_for=('precision',), sample_weight=None)\n   1035                     raise ValueError(\"pos_label=%r is not a valid label: %r\" %\n   1036                                      (pos_label, present_labels))\n   1037             labels = [pos_label]\n   1038         else:\n   1039             raise ValueError(\"Target is %s but average='binary'. Please \"\n-> 1040                              \"choose another average setting.\" % y_type)\n        y_type = 'multiclass'\n   1041     elif pos_label not in (None, 1):\n   1042         warnings.warn(\"Note that pos_label (set to %r) is ignored when \"\n   1043                       \"average != 'binary' (got %r). You may use \"\n   1044                       \"labels=[pos_label] to specify a single positive class.\"\n\nValueError: Target is multiclass but average='binary'. Please choose another average setting.\n___________________________________________________________________________",
      "\nDuring handling of the above exception, another exception occurred:\n",
      "\u001b[1;31mJoblibValueError\u001b[0m                          Traceback (most recent call last)",
      "\u001b[1;32m<ipython-input-35-8a48ecab90fd>\u001b[0m in \u001b[0;36m<module>\u001b[1;34m()\u001b[0m\n\u001b[0;32m     25\u001b[0m                            n_jobs=-1)\n\u001b[0;32m     26\u001b[0m \u001b[1;33m\u001b[0m\u001b[0m\n\u001b[1;32m---> 27\u001b[1;33m \u001b[0mgrid_search\u001b[0m\u001b[1;33m.\u001b[0m\u001b[0mfit\u001b[0m\u001b[1;33m(\u001b[0m\u001b[0mX_train\u001b[0m\u001b[1;33m.\u001b[0m\u001b[0mvalues\u001b[0m\u001b[1;33m,\u001b[0m \u001b[0mY_train\u001b[0m\u001b[1;33m.\u001b[0m\u001b[0mvalues\u001b[0m\u001b[1;33m)\u001b[0m\u001b[1;33m\u001b[0m\u001b[0m\n\u001b[0m\u001b[0;32m     28\u001b[0m \u001b[0my_pred\u001b[0m \u001b[1;33m=\u001b[0m \u001b[0mgrid_search\u001b[0m\u001b[1;33m.\u001b[0m\u001b[0mpredict\u001b[0m\u001b[1;33m(\u001b[0m\u001b[0mX_test\u001b[0m\u001b[1;33m.\u001b[0m\u001b[0mvalues\u001b[0m\u001b[1;33m)\u001b[0m\u001b[1;33m\u001b[0m\u001b[0m\n\u001b[0;32m     29\u001b[0m \u001b[1;31m#print('Best params for {}'.format(refit_score))\u001b[0m\u001b[1;33m\u001b[0m\u001b[1;33m\u001b[0m\u001b[0m\n",
      "\u001b[1;32m~\\Anaconda3\\lib\\site-packages\\sklearn\\model_selection\\_search.py\u001b[0m in \u001b[0;36mfit\u001b[1;34m(self, X, y, groups, **fit_params)\u001b[0m\n\u001b[0;32m    637\u001b[0m                                   error_score=self.error_score)\n\u001b[0;32m    638\u001b[0m           for parameters, (train, test) in product(candidate_params,\n\u001b[1;32m--> 639\u001b[1;33m                                                    cv.split(X, y, groups)))\n\u001b[0m\u001b[0;32m    640\u001b[0m \u001b[1;33m\u001b[0m\u001b[0m\n\u001b[0;32m    641\u001b[0m         \u001b[1;31m# if one choose to see train score, \"out\" will contain train score info\u001b[0m\u001b[1;33m\u001b[0m\u001b[1;33m\u001b[0m\u001b[0m\n",
      "\u001b[1;32m~\\Anaconda3\\lib\\site-packages\\sklearn\\externals\\joblib\\parallel.py\u001b[0m in \u001b[0;36m__call__\u001b[1;34m(self, iterable)\u001b[0m\n\u001b[0;32m    787\u001b[0m                 \u001b[1;31m# consumption.\u001b[0m\u001b[1;33m\u001b[0m\u001b[1;33m\u001b[0m\u001b[0m\n\u001b[0;32m    788\u001b[0m                 \u001b[0mself\u001b[0m\u001b[1;33m.\u001b[0m\u001b[0m_iterating\u001b[0m \u001b[1;33m=\u001b[0m \u001b[1;32mFalse\u001b[0m\u001b[1;33m\u001b[0m\u001b[0m\n\u001b[1;32m--> 789\u001b[1;33m             \u001b[0mself\u001b[0m\u001b[1;33m.\u001b[0m\u001b[0mretrieve\u001b[0m\u001b[1;33m(\u001b[0m\u001b[1;33m)\u001b[0m\u001b[1;33m\u001b[0m\u001b[0m\n\u001b[0m\u001b[0;32m    790\u001b[0m             \u001b[1;31m# Make sure that we get a last message telling us we are done\u001b[0m\u001b[1;33m\u001b[0m\u001b[1;33m\u001b[0m\u001b[0m\n\u001b[0;32m    791\u001b[0m             \u001b[0melapsed_time\u001b[0m \u001b[1;33m=\u001b[0m \u001b[0mtime\u001b[0m\u001b[1;33m.\u001b[0m\u001b[0mtime\u001b[0m\u001b[1;33m(\u001b[0m\u001b[1;33m)\u001b[0m \u001b[1;33m-\u001b[0m \u001b[0mself\u001b[0m\u001b[1;33m.\u001b[0m\u001b[0m_start_time\u001b[0m\u001b[1;33m\u001b[0m\u001b[0m\n",
      "\u001b[1;32m~\\Anaconda3\\lib\\site-packages\\sklearn\\externals\\joblib\\parallel.py\u001b[0m in \u001b[0;36mretrieve\u001b[1;34m(self)\u001b[0m\n\u001b[0;32m    738\u001b[0m                     \u001b[0mexception\u001b[0m \u001b[1;33m=\u001b[0m \u001b[0mexception_type\u001b[0m\u001b[1;33m(\u001b[0m\u001b[0mreport\u001b[0m\u001b[1;33m)\u001b[0m\u001b[1;33m\u001b[0m\u001b[0m\n\u001b[0;32m    739\u001b[0m \u001b[1;33m\u001b[0m\u001b[0m\n\u001b[1;32m--> 740\u001b[1;33m                     \u001b[1;32mraise\u001b[0m \u001b[0mexception\u001b[0m\u001b[1;33m\u001b[0m\u001b[0m\n\u001b[0m\u001b[0;32m    741\u001b[0m \u001b[1;33m\u001b[0m\u001b[0m\n\u001b[0;32m    742\u001b[0m     \u001b[1;32mdef\u001b[0m \u001b[0m__call__\u001b[0m\u001b[1;33m(\u001b[0m\u001b[0mself\u001b[0m\u001b[1;33m,\u001b[0m \u001b[0miterable\u001b[0m\u001b[1;33m)\u001b[0m\u001b[1;33m:\u001b[0m\u001b[1;33m\u001b[0m\u001b[0m\n",
      "\u001b[1;31mJoblibValueError\u001b[0m: JoblibValueError\n___________________________________________________________________________\nMultiprocessing exception:\n...........................................................................\nC:\\Users\\elodi\\Anaconda3\\lib\\runpy.py in _run_module_as_main(mod_name='ipykernel_launcher', alter_argv=1)\n    188         sys.exit(msg)\n    189     main_globals = sys.modules[\"__main__\"].__dict__\n    190     if alter_argv:\n    191         sys.argv[0] = mod_spec.origin\n    192     return _run_code(code, main_globals, None,\n--> 193                      \"__main__\", mod_spec)\n        mod_spec = ModuleSpec(name='ipykernel_launcher', loader=<_f...nda3\\\\lib\\\\site-packages\\\\ipykernel_launcher.py')\n    194 \n    195 def run_module(mod_name, init_globals=None,\n    196                run_name=None, alter_sys=False):\n    197     \"\"\"Execute a module's code without importing it\n\n...........................................................................\nC:\\Users\\elodi\\Anaconda3\\lib\\runpy.py in _run_code(code=<code object <module> at 0x0000023D774F4ED0, fil...lib\\site-packages\\ipykernel_launcher.py\", line 5>, run_globals={'__annotations__': {}, '__builtins__': <module 'builtins' (built-in)>, '__cached__': r'C:\\Users\\elodi\\Anaconda3\\lib\\site-packages\\__pycache__\\ipykernel_launcher.cpython-36.pyc', '__doc__': 'Entry point for launching an IPython kernel.\\n\\nTh...orts until\\nafter removing the cwd from sys.path.\\n', '__file__': r'C:\\Users\\elodi\\Anaconda3\\lib\\site-packages\\ipykernel_launcher.py', '__loader__': <_frozen_importlib_external.SourceFileLoader object>, '__name__': '__main__', '__package__': '', '__spec__': ModuleSpec(name='ipykernel_launcher', loader=<_f...nda3\\\\lib\\\\site-packages\\\\ipykernel_launcher.py'), 'app': <module 'ipykernel.kernelapp' from 'C:\\\\Users\\\\e...a3\\\\lib\\\\site-packages\\\\ipykernel\\\\kernelapp.py'>, ...}, init_globals=None, mod_name='__main__', mod_spec=ModuleSpec(name='ipykernel_launcher', loader=<_f...nda3\\\\lib\\\\site-packages\\\\ipykernel_launcher.py'), pkg_name='', script_name=None)\n     80                        __cached__ = cached,\n     81                        __doc__ = None,\n     82                        __loader__ = loader,\n     83                        __package__ = pkg_name,\n     84                        __spec__ = mod_spec)\n---> 85     exec(code, run_globals)\n        code = <code object <module> at 0x0000023D774F4ED0, fil...lib\\site-packages\\ipykernel_launcher.py\", line 5>\n        run_globals = {'__annotations__': {}, '__builtins__': <module 'builtins' (built-in)>, '__cached__': r'C:\\Users\\elodi\\Anaconda3\\lib\\site-packages\\__pycache__\\ipykernel_launcher.cpython-36.pyc', '__doc__': 'Entry point for launching an IPython kernel.\\n\\nTh...orts until\\nafter removing the cwd from sys.path.\\n', '__file__': r'C:\\Users\\elodi\\Anaconda3\\lib\\site-packages\\ipykernel_launcher.py', '__loader__': <_frozen_importlib_external.SourceFileLoader object>, '__name__': '__main__', '__package__': '', '__spec__': ModuleSpec(name='ipykernel_launcher', loader=<_f...nda3\\\\lib\\\\site-packages\\\\ipykernel_launcher.py'), 'app': <module 'ipykernel.kernelapp' from 'C:\\\\Users\\\\e...a3\\\\lib\\\\site-packages\\\\ipykernel\\\\kernelapp.py'>, ...}\n     86     return run_globals\n     87 \n     88 def _run_module_code(code, init_globals=None,\n     89                     mod_name=None, mod_spec=None,\n\n...........................................................................\nC:\\Users\\elodi\\Anaconda3\\lib\\site-packages\\ipykernel_launcher.py in <module>()\n     11     # This is added back by InteractiveShellApp.init_path()\n     12     if sys.path[0] == '':\n     13         del sys.path[0]\n     14 \n     15     from ipykernel import kernelapp as app\n---> 16     app.launch_new_instance()\n\n...........................................................................\nC:\\Users\\elodi\\Anaconda3\\lib\\site-packages\\traitlets\\config\\application.py in launch_instance(cls=<class 'ipykernel.kernelapp.IPKernelApp'>, argv=None, **kwargs={})\n    653 \n    654         If a global instance already exists, this reinitializes and starts it\n    655         \"\"\"\n    656         app = cls.instance(**kwargs)\n    657         app.initialize(argv)\n--> 658         app.start()\n        app.start = <bound method IPKernelApp.start of <ipykernel.kernelapp.IPKernelApp object>>\n    659 \n    660 #-----------------------------------------------------------------------------\n    661 # utility functions, for convenience\n    662 #-----------------------------------------------------------------------------\n\n...........................................................................\nC:\\Users\\elodi\\Anaconda3\\lib\\site-packages\\ipykernel\\kernelapp.py in start(self=<ipykernel.kernelapp.IPKernelApp object>)\n    481         if self.poller is not None:\n    482             self.poller.start()\n    483         self.kernel.start()\n    484         self.io_loop = ioloop.IOLoop.current()\n    485         try:\n--> 486             self.io_loop.start()\n        self.io_loop.start = <bound method BaseAsyncIOLoop.start of <tornado.platform.asyncio.AsyncIOMainLoop object>>\n    487         except KeyboardInterrupt:\n    488             pass\n    489 \n    490 launch_new_instance = IPKernelApp.launch_instance\n\n...........................................................................\nC:\\Users\\elodi\\Anaconda3\\lib\\site-packages\\tornado\\platform\\asyncio.py in start(self=<tornado.platform.asyncio.AsyncIOMainLoop object>)\n    122         except (RuntimeError, AssertionError):\n    123             old_loop = None\n    124         try:\n    125             self._setup_logging()\n    126             asyncio.set_event_loop(self.asyncio_loop)\n--> 127             self.asyncio_loop.run_forever()\n        self.asyncio_loop.run_forever = <bound method BaseEventLoop.run_forever of <_Win...EventLoop running=True closed=False debug=False>>\n    128         finally:\n    129             asyncio.set_event_loop(old_loop)\n    130 \n    131     def stop(self):\n\n...........................................................................\nC:\\Users\\elodi\\Anaconda3\\lib\\asyncio\\base_events.py in run_forever(self=<_WindowsSelectorEventLoop running=True closed=False debug=False>)\n    417             sys.set_asyncgen_hooks(firstiter=self._asyncgen_firstiter_hook,\n    418                                    finalizer=self._asyncgen_finalizer_hook)\n    419         try:\n    420             events._set_running_loop(self)\n    421             while True:\n--> 422                 self._run_once()\n        self._run_once = <bound method BaseEventLoop._run_once of <_Windo...EventLoop running=True closed=False debug=False>>\n    423                 if self._stopping:\n    424                     break\n    425         finally:\n    426             self._stopping = False\n\n...........................................................................\nC:\\Users\\elodi\\Anaconda3\\lib\\asyncio\\base_events.py in _run_once(self=<_WindowsSelectorEventLoop running=True closed=False debug=False>)\n   1427                         logger.warning('Executing %s took %.3f seconds',\n   1428                                        _format_handle(handle), dt)\n   1429                 finally:\n   1430                     self._current_handle = None\n   1431             else:\n-> 1432                 handle._run()\n        handle._run = <bound method Handle._run of <Handle BaseAsyncIOLoop._handle_events(1028, 1)>>\n   1433         handle = None  # Needed to break cycles when an exception occurs.\n   1434 \n   1435     def _set_coroutine_wrapper(self, enabled):\n   1436         try:\n\n...........................................................................\nC:\\Users\\elodi\\Anaconda3\\lib\\asyncio\\events.py in _run(self=<Handle BaseAsyncIOLoop._handle_events(1028, 1)>)\n    140             self._callback = None\n    141             self._args = None\n    142 \n    143     def _run(self):\n    144         try:\n--> 145             self._callback(*self._args)\n        self._callback = <bound method BaseAsyncIOLoop._handle_events of <tornado.platform.asyncio.AsyncIOMainLoop object>>\n        self._args = (1028, 1)\n    146         except Exception as exc:\n    147             cb = _format_callback_source(self._callback, self._args)\n    148             msg = 'Exception in callback {}'.format(cb)\n    149             context = {\n\n...........................................................................\nC:\\Users\\elodi\\Anaconda3\\lib\\site-packages\\tornado\\platform\\asyncio.py in _handle_events(self=<tornado.platform.asyncio.AsyncIOMainLoop object>, fd=1028, events=1)\n    112             self.writers.remove(fd)\n    113         del self.handlers[fd]\n    114 \n    115     def _handle_events(self, fd, events):\n    116         fileobj, handler_func = self.handlers[fd]\n--> 117         handler_func(fileobj, events)\n        handler_func = <function wrap.<locals>.null_wrapper>\n        fileobj = <zmq.sugar.socket.Socket object>\n        events = 1\n    118 \n    119     def start(self):\n    120         try:\n    121             old_loop = asyncio.get_event_loop()\n\n...........................................................................\nC:\\Users\\elodi\\Anaconda3\\lib\\site-packages\\tornado\\stack_context.py in null_wrapper(*args=(<zmq.sugar.socket.Socket object>, 1), **kwargs={})\n    271         # Fast path when there are no active contexts.\n    272         def null_wrapper(*args, **kwargs):\n    273             try:\n    274                 current_state = _state.contexts\n    275                 _state.contexts = cap_contexts[0]\n--> 276                 return fn(*args, **kwargs)\n        args = (<zmq.sugar.socket.Socket object>, 1)\n        kwargs = {}\n    277             finally:\n    278                 _state.contexts = current_state\n    279         null_wrapper._wrapped = True\n    280         return null_wrapper\n\n...........................................................................\nC:\\Users\\elodi\\Anaconda3\\lib\\site-packages\\zmq\\eventloop\\zmqstream.py in _handle_events(self=<zmq.eventloop.zmqstream.ZMQStream object>, fd=<zmq.sugar.socket.Socket object>, events=1)\n    445             return\n    446         zmq_events = self.socket.EVENTS\n    447         try:\n    448             # dispatch events:\n    449             if zmq_events & zmq.POLLIN and self.receiving():\n--> 450                 self._handle_recv()\n        self._handle_recv = <bound method ZMQStream._handle_recv of <zmq.eventloop.zmqstream.ZMQStream object>>\n    451                 if not self.socket:\n    452                     return\n    453             if zmq_events & zmq.POLLOUT and self.sending():\n    454                 self._handle_send()\n\n...........................................................................\nC:\\Users\\elodi\\Anaconda3\\lib\\site-packages\\zmq\\eventloop\\zmqstream.py in _handle_recv(self=<zmq.eventloop.zmqstream.ZMQStream object>)\n    475             else:\n    476                 raise\n    477         else:\n    478             if self._recv_callback:\n    479                 callback = self._recv_callback\n--> 480                 self._run_callback(callback, msg)\n        self._run_callback = <bound method ZMQStream._run_callback of <zmq.eventloop.zmqstream.ZMQStream object>>\n        callback = <function wrap.<locals>.null_wrapper>\n        msg = [<zmq.sugar.frame.Frame object>, <zmq.sugar.frame.Frame object>, <zmq.sugar.frame.Frame object>, <zmq.sugar.frame.Frame object>, <zmq.sugar.frame.Frame object>, <zmq.sugar.frame.Frame object>, <zmq.sugar.frame.Frame object>]\n    481         \n    482 \n    483     def _handle_send(self):\n    484         \"\"\"Handle a send event.\"\"\"\n\n...........................................................................\nC:\\Users\\elodi\\Anaconda3\\lib\\site-packages\\zmq\\eventloop\\zmqstream.py in _run_callback(self=<zmq.eventloop.zmqstream.ZMQStream object>, callback=<function wrap.<locals>.null_wrapper>, *args=([<zmq.sugar.frame.Frame object>, <zmq.sugar.frame.Frame object>, <zmq.sugar.frame.Frame object>, <zmq.sugar.frame.Frame object>, <zmq.sugar.frame.Frame object>, <zmq.sugar.frame.Frame object>, <zmq.sugar.frame.Frame object>],), **kwargs={})\n    427         close our socket.\"\"\"\n    428         try:\n    429             # Use a NullContext to ensure that all StackContexts are run\n    430             # inside our blanket exception handler rather than outside.\n    431             with stack_context.NullContext():\n--> 432                 callback(*args, **kwargs)\n        callback = <function wrap.<locals>.null_wrapper>\n        args = ([<zmq.sugar.frame.Frame object>, <zmq.sugar.frame.Frame object>, <zmq.sugar.frame.Frame object>, <zmq.sugar.frame.Frame object>, <zmq.sugar.frame.Frame object>, <zmq.sugar.frame.Frame object>, <zmq.sugar.frame.Frame object>],)\n        kwargs = {}\n    433         except:\n    434             gen_log.error(\"Uncaught exception in ZMQStream callback\",\n    435                           exc_info=True)\n    436             # Re-raise the exception so that IOLoop.handle_callback_exception\n\n...........................................................................\nC:\\Users\\elodi\\Anaconda3\\lib\\site-packages\\tornado\\stack_context.py in null_wrapper(*args=([<zmq.sugar.frame.Frame object>, <zmq.sugar.frame.Frame object>, <zmq.sugar.frame.Frame object>, <zmq.sugar.frame.Frame object>, <zmq.sugar.frame.Frame object>, <zmq.sugar.frame.Frame object>, <zmq.sugar.frame.Frame object>],), **kwargs={})\n    271         # Fast path when there are no active contexts.\n    272         def null_wrapper(*args, **kwargs):\n    273             try:\n    274                 current_state = _state.contexts\n    275                 _state.contexts = cap_contexts[0]\n--> 276                 return fn(*args, **kwargs)\n        args = ([<zmq.sugar.frame.Frame object>, <zmq.sugar.frame.Frame object>, <zmq.sugar.frame.Frame object>, <zmq.sugar.frame.Frame object>, <zmq.sugar.frame.Frame object>, <zmq.sugar.frame.Frame object>, <zmq.sugar.frame.Frame object>],)\n        kwargs = {}\n    277             finally:\n    278                 _state.contexts = current_state\n    279         null_wrapper._wrapped = True\n    280         return null_wrapper\n\n...........................................................................\nC:\\Users\\elodi\\Anaconda3\\lib\\site-packages\\ipykernel\\kernelbase.py in dispatcher(msg=[<zmq.sugar.frame.Frame object>, <zmq.sugar.frame.Frame object>, <zmq.sugar.frame.Frame object>, <zmq.sugar.frame.Frame object>, <zmq.sugar.frame.Frame object>, <zmq.sugar.frame.Frame object>, <zmq.sugar.frame.Frame object>])\n    278         if self.control_stream:\n    279             self.control_stream.on_recv(self.dispatch_control, copy=False)\n    280 \n    281         def make_dispatcher(stream):\n    282             def dispatcher(msg):\n--> 283                 return self.dispatch_shell(stream, msg)\n        msg = [<zmq.sugar.frame.Frame object>, <zmq.sugar.frame.Frame object>, <zmq.sugar.frame.Frame object>, <zmq.sugar.frame.Frame object>, <zmq.sugar.frame.Frame object>, <zmq.sugar.frame.Frame object>, <zmq.sugar.frame.Frame object>]\n    284             return dispatcher\n    285 \n    286         for s in self.shell_streams:\n    287             s.on_recv(make_dispatcher(s), copy=False)\n\n...........................................................................\nC:\\Users\\elodi\\Anaconda3\\lib\\site-packages\\ipykernel\\kernelbase.py in dispatch_shell(self=<ipykernel.ipkernel.IPythonKernel object>, stream=<zmq.eventloop.zmqstream.ZMQStream object>, msg={'buffers': [], 'content': {'allow_stdin': True, 'code': 'clf = RandomForestClassifier(n_jobs = -1)\\n\\nparam...e()\\nprint(results)\\nprint(grid_search.best_score_)', 'silent': False, 'stop_on_error': True, 'store_history': True, 'user_expressions': {}}, 'header': {'date': datetime.datetime(2019, 2, 14, 12, 54, 11, 873118, tzinfo=tzutc()), 'msg_id': '4d91672db1fd486d9f57cf4c12827abf', 'msg_type': 'execute_request', 'session': 'e2cf64adc3cc47788898ca6881b6bc60', 'username': 'username', 'version': '5.2'}, 'metadata': {}, 'msg_id': '4d91672db1fd486d9f57cf4c12827abf', 'msg_type': 'execute_request', 'parent_header': {}})\n    228             self.log.warn(\"Unknown message type: %r\", msg_type)\n    229         else:\n    230             self.log.debug(\"%s: %s\", msg_type, msg)\n    231             self.pre_handler_hook()\n    232             try:\n--> 233                 handler(stream, idents, msg)\n        handler = <bound method Kernel.execute_request of <ipykernel.ipkernel.IPythonKernel object>>\n        stream = <zmq.eventloop.zmqstream.ZMQStream object>\n        idents = [b'e2cf64adc3cc47788898ca6881b6bc60']\n        msg = {'buffers': [], 'content': {'allow_stdin': True, 'code': 'clf = RandomForestClassifier(n_jobs = -1)\\n\\nparam...e()\\nprint(results)\\nprint(grid_search.best_score_)', 'silent': False, 'stop_on_error': True, 'store_history': True, 'user_expressions': {}}, 'header': {'date': datetime.datetime(2019, 2, 14, 12, 54, 11, 873118, tzinfo=tzutc()), 'msg_id': '4d91672db1fd486d9f57cf4c12827abf', 'msg_type': 'execute_request', 'session': 'e2cf64adc3cc47788898ca6881b6bc60', 'username': 'username', 'version': '5.2'}, 'metadata': {}, 'msg_id': '4d91672db1fd486d9f57cf4c12827abf', 'msg_type': 'execute_request', 'parent_header': {}}\n    234             except Exception:\n    235                 self.log.error(\"Exception in message handler:\", exc_info=True)\n    236             finally:\n    237                 self.post_handler_hook()\n\n...........................................................................\nC:\\Users\\elodi\\Anaconda3\\lib\\site-packages\\ipykernel\\kernelbase.py in execute_request(self=<ipykernel.ipkernel.IPythonKernel object>, stream=<zmq.eventloop.zmqstream.ZMQStream object>, ident=[b'e2cf64adc3cc47788898ca6881b6bc60'], parent={'buffers': [], 'content': {'allow_stdin': True, 'code': 'clf = RandomForestClassifier(n_jobs = -1)\\n\\nparam...e()\\nprint(results)\\nprint(grid_search.best_score_)', 'silent': False, 'stop_on_error': True, 'store_history': True, 'user_expressions': {}}, 'header': {'date': datetime.datetime(2019, 2, 14, 12, 54, 11, 873118, tzinfo=tzutc()), 'msg_id': '4d91672db1fd486d9f57cf4c12827abf', 'msg_type': 'execute_request', 'session': 'e2cf64adc3cc47788898ca6881b6bc60', 'username': 'username', 'version': '5.2'}, 'metadata': {}, 'msg_id': '4d91672db1fd486d9f57cf4c12827abf', 'msg_type': 'execute_request', 'parent_header': {}})\n    394         if not silent:\n    395             self.execution_count += 1\n    396             self._publish_execute_input(code, parent, self.execution_count)\n    397 \n    398         reply_content = self.do_execute(code, silent, store_history,\n--> 399                                         user_expressions, allow_stdin)\n        user_expressions = {}\n        allow_stdin = True\n    400 \n    401         # Flush output before sending the reply.\n    402         sys.stdout.flush()\n    403         sys.stderr.flush()\n\n...........................................................................\nC:\\Users\\elodi\\Anaconda3\\lib\\site-packages\\ipykernel\\ipkernel.py in do_execute(self=<ipykernel.ipkernel.IPythonKernel object>, code='clf = RandomForestClassifier(n_jobs = -1)\\n\\nparam...e()\\nprint(results)\\nprint(grid_search.best_score_)', silent=False, store_history=True, user_expressions={}, allow_stdin=True)\n    203 \n    204         self._forward_input(allow_stdin)\n    205 \n    206         reply_content = {}\n    207         try:\n--> 208             res = shell.run_cell(code, store_history=store_history, silent=silent)\n        res = undefined\n        shell.run_cell = <bound method ZMQInteractiveShell.run_cell of <ipykernel.zmqshell.ZMQInteractiveShell object>>\n        code = 'clf = RandomForestClassifier(n_jobs = -1)\\n\\nparam...e()\\nprint(results)\\nprint(grid_search.best_score_)'\n        store_history = True\n        silent = False\n    209         finally:\n    210             self._restore_input()\n    211 \n    212         if res.error_before_exec is not None:\n\n...........................................................................\nC:\\Users\\elodi\\Anaconda3\\lib\\site-packages\\ipykernel\\zmqshell.py in run_cell(self=<ipykernel.zmqshell.ZMQInteractiveShell object>, *args=('clf = RandomForestClassifier(n_jobs = -1)\\n\\nparam...e()\\nprint(results)\\nprint(grid_search.best_score_)',), **kwargs={'silent': False, 'store_history': True})\n    532             )\n    533         self.payload_manager.write_payload(payload)\n    534 \n    535     def run_cell(self, *args, **kwargs):\n    536         self._last_traceback = None\n--> 537         return super(ZMQInteractiveShell, self).run_cell(*args, **kwargs)\n        self.run_cell = <bound method ZMQInteractiveShell.run_cell of <ipykernel.zmqshell.ZMQInteractiveShell object>>\n        args = ('clf = RandomForestClassifier(n_jobs = -1)\\n\\nparam...e()\\nprint(results)\\nprint(grid_search.best_score_)',)\n        kwargs = {'silent': False, 'store_history': True}\n    538 \n    539     def _showtraceback(self, etype, evalue, stb):\n    540         # try to preserve ordering of tracebacks and print statements\n    541         sys.stdout.flush()\n\n...........................................................................\nC:\\Users\\elodi\\Anaconda3\\lib\\site-packages\\IPython\\core\\interactiveshell.py in run_cell(self=<ipykernel.zmqshell.ZMQInteractiveShell object>, raw_cell='clf = RandomForestClassifier(n_jobs = -1)\\n\\nparam...e()\\nprint(results)\\nprint(grid_search.best_score_)', store_history=True, silent=False, shell_futures=True)\n   2657         -------\n   2658         result : :class:`ExecutionResult`\n   2659         \"\"\"\n   2660         try:\n   2661             result = self._run_cell(\n-> 2662                 raw_cell, store_history, silent, shell_futures)\n        raw_cell = 'clf = RandomForestClassifier(n_jobs = -1)\\n\\nparam...e()\\nprint(results)\\nprint(grid_search.best_score_)'\n        store_history = True\n        silent = False\n        shell_futures = True\n   2663         finally:\n   2664             self.events.trigger('post_execute')\n   2665             if not silent:\n   2666                 self.events.trigger('post_run_cell', result)\n\n...........................................................................\nC:\\Users\\elodi\\Anaconda3\\lib\\site-packages\\IPython\\core\\interactiveshell.py in _run_cell(self=<ipykernel.zmqshell.ZMQInteractiveShell object>, raw_cell='clf = RandomForestClassifier(n_jobs = -1)\\n\\nparam...e()\\nprint(results)\\nprint(grid_search.best_score_)', store_history=True, silent=False, shell_futures=True)\n   2780                 self.displayhook.exec_result = result\n   2781 \n   2782                 # Execute the user code\n   2783                 interactivity = 'none' if silent else self.ast_node_interactivity\n   2784                 has_raised = self.run_ast_nodes(code_ast.body, cell_name,\n-> 2785                    interactivity=interactivity, compiler=compiler, result=result)\n        interactivity = 'last_expr'\n        compiler = <IPython.core.compilerop.CachingCompiler object>\n   2786                 \n   2787                 self.last_execution_succeeded = not has_raised\n   2788                 self.last_execution_result = result\n   2789 \n\n...........................................................................\nC:\\Users\\elodi\\Anaconda3\\lib\\site-packages\\IPython\\core\\interactiveshell.py in run_ast_nodes(self=<ipykernel.zmqshell.ZMQInteractiveShell object>, nodelist=[<_ast.Assign object>, <_ast.Assign object>, <_ast.Assign object>, <_ast.Assign object>, <_ast.Assign object>, <_ast.Expr object>, <_ast.Assign object>, <_ast.Expr object>, <_ast.Assign object>, <_ast.Expr object>, <_ast.Expr object>], cell_name='<ipython-input-35-8a48ecab90fd>', interactivity='last', compiler=<IPython.core.compilerop.CachingCompiler object>, result=<ExecutionResult object at 23d00a44c18, executio...rue silent=False shell_futures=True> result=None>)\n   2898 \n   2899         try:\n   2900             for i, node in enumerate(to_run_exec):\n   2901                 mod = ast.Module([node])\n   2902                 code = compiler(mod, cell_name, \"exec\")\n-> 2903                 if self.run_code(code, result):\n        self.run_code = <bound method InteractiveShell.run_code of <ipykernel.zmqshell.ZMQInteractiveShell object>>\n        code = <code object <module> at 0x0000023D00A45810, file \"<ipython-input-35-8a48ecab90fd>\", line 27>\n        result = <ExecutionResult object at 23d00a44c18, executio...rue silent=False shell_futures=True> result=None>\n   2904                     return True\n   2905 \n   2906             for i, node in enumerate(to_run_interactive):\n   2907                 mod = ast.Interactive([node])\n\n...........................................................................\nC:\\Users\\elodi\\Anaconda3\\lib\\site-packages\\IPython\\core\\interactiveshell.py in run_code(self=<ipykernel.zmqshell.ZMQInteractiveShell object>, code_obj=<code object <module> at 0x0000023D00A45810, file \"<ipython-input-35-8a48ecab90fd>\", line 27>, result=<ExecutionResult object at 23d00a44c18, executio...rue silent=False shell_futures=True> result=None>)\n   2958         outflag = True  # happens in more places, so it's easier as default\n   2959         try:\n   2960             try:\n   2961                 self.hooks.pre_run_code_hook()\n   2962                 #rprint('Running code', repr(code_obj)) # dbg\n-> 2963                 exec(code_obj, self.user_global_ns, self.user_ns)\n        code_obj = <code object <module> at 0x0000023D00A45810, file \"<ipython-input-35-8a48ecab90fd>\", line 27>\n        self.user_global_ns = {'DecisionTreeClassifier': <class 'sklearn.tree.tree.DecisionTreeClassifier'>, 'GaussianNB': <class 'sklearn.naive_bayes.GaussianNB'>, 'GridSearchCV': <class 'sklearn.model_selection._search.GridSearchCV'>, 'In': ['', 'import matplotlib.pyplot as plt\\nimport numpy as ...m sklearn.model_selection import train_test_split', 'path_to_csv = \"kdd.txt\"\\n\\ndf = pd.read_csv(path_to_csv, header = None)', \"df.rename(columns={0: 'duration', \\n             ...    41: 'type'\\n                  }, inplace=True)\", 'df.head()', \"group_by = df.groupby(['type']).size().reset_index(name='counts')\", \"n_groups = df['type'].nunique()\", 'df.dtypes', \"types = group_by['type']\\ncount_by_type = group_b...title('Connexion types repartition')\\n \\nplt.show()\", 'NULL = df.isnull().sum()\\nNA = df.isna().sum()\\nNA....T\\nNA_NULL.columns = [\"nb_NA\", \"nb_NULL\"]\\nNA_NULL', '#Ce avec quoi on va predire\\nX = df.loc[:, df.col...drop(\"service\", 1)\\nX = X.drop(\"flag\", 1)\\nX.head()', '#Ce que l\\'on veut predire\\nY = df[\"type\"]\\nY.head()', '#Séparation en jeu de test et de train \\nX_train,... Y_test = train_test_split(X, Y, test_size = 0.3)', '#Séparation en jeu de test et de validation \\nX_t...train_test_split(X_test, Y_test, test_size = 0.3)', 'from sklearn.ensemble import RandomForestClassifier', 'hyperparametres = {\"n_estimators\" : 20, \\n       ...n fait un dictionnaire avec les hypers paramètres', 'algo = RandomForestClassifier(**hyperparametres)', '#Entrainement du modèle\\nmodele = algo.fit(X_train, Y_train)', 'modele.score(X_test, Y_test)', 'from sklearn.naive_bayes import GaussianNB', ...], 'NA': duration                       0\nprotocol_type  ...  0\ntype                           0\ndtype: int64, 'NA_NULL':                              nb_NA  nb_NULL\ndura...    0\ntype                             0        0, 'NULL': duration                       0\nprotocol_type  ...  0\ntype                           0\ndtype: int64, 'Out': {4:    duration protocol_type service flag  src_byte...            0.0  normal.  \n\n[5 rows x 42 columns], 7: duration                         int64\nprotocol_...e                            object\ndtype: object, 9:                              nb_NA  nb_NULL\ndura...    0\ntype                             0        0, 10:    duration  src_bytes  dst_bytes  land  wrong_f...                     0.0  \n\n[5 rows x 38 columns], 11: 0    normal.\n1    normal.\n2    normal.\n3    normal.\n4    normal.\nName: type, dtype: object, 18: 0.9997493830968538, 22: 0.9498380629241209, 26: 0.999363818630475, 28: array(['normal.', 'smurf.', 'normal.', ..., 'normal.', 'normal.',\n       'neptune.'], dtype=object), 31: array([[0.000e+00, 9.311e+03, 0.000e+00, ..., 0...., ..., 1.000e+00, 0.000e+00,\n        0.000e+00]]), ...}, 'RandomForestClassifier': <class 'sklearn.ensemble.forest.RandomForestClassifier'>, 'StratifiedKFold': <class 'sklearn.model_selection._split.StratifiedKFold'>, ...}\n        self.user_ns = {'DecisionTreeClassifier': <class 'sklearn.tree.tree.DecisionTreeClassifier'>, 'GaussianNB': <class 'sklearn.naive_bayes.GaussianNB'>, 'GridSearchCV': <class 'sklearn.model_selection._search.GridSearchCV'>, 'In': ['', 'import matplotlib.pyplot as plt\\nimport numpy as ...m sklearn.model_selection import train_test_split', 'path_to_csv = \"kdd.txt\"\\n\\ndf = pd.read_csv(path_to_csv, header = None)', \"df.rename(columns={0: 'duration', \\n             ...    41: 'type'\\n                  }, inplace=True)\", 'df.head()', \"group_by = df.groupby(['type']).size().reset_index(name='counts')\", \"n_groups = df['type'].nunique()\", 'df.dtypes', \"types = group_by['type']\\ncount_by_type = group_b...title('Connexion types repartition')\\n \\nplt.show()\", 'NULL = df.isnull().sum()\\nNA = df.isna().sum()\\nNA....T\\nNA_NULL.columns = [\"nb_NA\", \"nb_NULL\"]\\nNA_NULL', '#Ce avec quoi on va predire\\nX = df.loc[:, df.col...drop(\"service\", 1)\\nX = X.drop(\"flag\", 1)\\nX.head()', '#Ce que l\\'on veut predire\\nY = df[\"type\"]\\nY.head()', '#Séparation en jeu de test et de train \\nX_train,... Y_test = train_test_split(X, Y, test_size = 0.3)', '#Séparation en jeu de test et de validation \\nX_t...train_test_split(X_test, Y_test, test_size = 0.3)', 'from sklearn.ensemble import RandomForestClassifier', 'hyperparametres = {\"n_estimators\" : 20, \\n       ...n fait un dictionnaire avec les hypers paramètres', 'algo = RandomForestClassifier(**hyperparametres)', '#Entrainement du modèle\\nmodele = algo.fit(X_train, Y_train)', 'modele.score(X_test, Y_test)', 'from sklearn.naive_bayes import GaussianNB', ...], 'NA': duration                       0\nprotocol_type  ...  0\ntype                           0\ndtype: int64, 'NA_NULL':                              nb_NA  nb_NULL\ndura...    0\ntype                             0        0, 'NULL': duration                       0\nprotocol_type  ...  0\ntype                           0\ndtype: int64, 'Out': {4:    duration protocol_type service flag  src_byte...            0.0  normal.  \n\n[5 rows x 42 columns], 7: duration                         int64\nprotocol_...e                            object\ndtype: object, 9:                              nb_NA  nb_NULL\ndura...    0\ntype                             0        0, 10:    duration  src_bytes  dst_bytes  land  wrong_f...                     0.0  \n\n[5 rows x 38 columns], 11: 0    normal.\n1    normal.\n2    normal.\n3    normal.\n4    normal.\nName: type, dtype: object, 18: 0.9997493830968538, 22: 0.9498380629241209, 26: 0.999363818630475, 28: array(['normal.', 'smurf.', 'normal.', ..., 'normal.', 'normal.',\n       'neptune.'], dtype=object), 31: array([[0.000e+00, 9.311e+03, 0.000e+00, ..., 0...., ..., 1.000e+00, 0.000e+00,\n        0.000e+00]]), ...}, 'RandomForestClassifier': <class 'sklearn.ensemble.forest.RandomForestClassifier'>, 'StratifiedKFold': <class 'sklearn.model_selection._split.StratifiedKFold'>, ...}\n   2964             finally:\n   2965                 # Reset our crash handler in place\n   2966                 sys.excepthook = old_excepthook\n   2967         except SystemExit as e:\n\n...........................................................................\nC:\\Users\\elodi\\Documents\\Cours\\ESILV\\A5\\Python_for_data_analysis\\data-science-esilv\\<ipython-input-35-8a48ecab90fd> in <module>()\n     22                            refit=\"precision_score\", \n     23                            cv=skf, \n     24                            return_train_score=True, \n     25                            n_jobs=-1)\n     26 \n---> 27 grid_search.fit(X_train.values, Y_train.values)\n     28 y_pred = grid_search.predict(X_test.values)\n     29 #print('Best params for {}'.format(refit_score))\n     30 print(grid_search.best_params_)\n     31 \n\n...........................................................................\nC:\\Users\\elodi\\Anaconda3\\lib\\site-packages\\sklearn\\model_selection\\_search.py in fit(self=GridSearchCV(cv=StratifiedKFold(n_splits=2, rand...: make_scorer(accuracy_score)},\n       verbose=0), X=array([[0.000e+00, 1.032e+03, 0.000e+00, ..., 0...., ..., 0.000e+00, 0.000e+00,\n        0.000e+00]]), y=array(['smurf.', 'smurf.', 'smurf.', ..., 'normal.', 'neptune.', 'pod.'],\n      dtype=object), groups=None, **fit_params={})\n    634                                   return_train_score=self.return_train_score,\n    635                                   return_n_test_samples=True,\n    636                                   return_times=True, return_parameters=False,\n    637                                   error_score=self.error_score)\n    638           for parameters, (train, test) in product(candidate_params,\n--> 639                                                    cv.split(X, y, groups)))\n        cv.split = <bound method StratifiedKFold.split of Stratifie...ld(n_splits=2, random_state=None, shuffle=False)>\n        X = array([[0.000e+00, 1.032e+03, 0.000e+00, ..., 0...., ..., 0.000e+00, 0.000e+00,\n        0.000e+00]])\n        y = array(['smurf.', 'smurf.', 'smurf.', ..., 'normal.', 'neptune.', 'pod.'],\n      dtype=object)\n        groups = None\n    640 \n    641         # if one choose to see train score, \"out\" will contain train score info\n    642         if self.return_train_score:\n    643             (train_score_dicts, test_score_dicts, test_sample_counts, fit_time,\n\n...........................................................................\nC:\\Users\\elodi\\Anaconda3\\lib\\site-packages\\sklearn\\externals\\joblib\\parallel.py in __call__(self=Parallel(n_jobs=-1), iterable=<generator object BaseSearchCV.fit.<locals>.<genexpr>>)\n    784             if pre_dispatch == \"all\" or n_jobs == 1:\n    785                 # The iterable was consumed all at once by the above for loop.\n    786                 # No need to wait for async callbacks to trigger to\n    787                 # consumption.\n    788                 self._iterating = False\n--> 789             self.retrieve()\n        self.retrieve = <bound method Parallel.retrieve of Parallel(n_jobs=-1)>\n    790             # Make sure that we get a last message telling us we are done\n    791             elapsed_time = time.time() - self._start_time\n    792             self._print('Done %3i out of %3i | elapsed: %s finished',\n    793                         (len(self._output), len(self._output),\n\n---------------------------------------------------------------------------\nSub-process traceback:\n---------------------------------------------------------------------------\nValueError                                         Thu Feb 14 13:54:24 2019\nPID: 9972                 Python 3.6.5: C:\\Users\\elodi\\Anaconda3\\python.exe\n...........................................................................\nC:\\Users\\elodi\\Anaconda3\\lib\\site-packages\\sklearn\\externals\\joblib\\parallel.py in __call__(self=<sklearn.externals.joblib.parallel.BatchedCalls object>)\n    126     def __init__(self, iterator_slice):\n    127         self.items = list(iterator_slice)\n    128         self._size = len(self.items)\n    129 \n    130     def __call__(self):\n--> 131         return [func(*args, **kwargs) for func, args, kwargs in self.items]\n        self.items = [(<function _fit_and_score>, (RandomForestClassifier(bootstrap=True, class_wei...te=None, verbose=0,\n            warm_start=False), memmap([[0.000e+00, 1.032e+03, 0.000e+00, ..., 0... ..., 0.000e+00, 0.000e+00,\n         0.000e+00]]), array(['smurf.', 'smurf.', 'smurf.', ..., 'normal.', 'neptune.', 'pod.'],\n      dtype=object), {'accuracy_score': make_scorer(accuracy_score), 'precision_score': make_scorer(precision_score), 'recall_score': make_scorer(recall_score)}, array([136980, 150907, 151167, ..., 345811, 345812, 345813]), array([     0,      1,      2, ..., 235067, 250337, 292781]), 0, {'criterion': 'gini', 'max_depth': 3, 'max_features': 3, 'min_samples_split': 3, 'n_estimators': 40}), {'error_score': 'raise', 'fit_params': {}, 'return_n_test_samples': True, 'return_parameters': False, 'return_times': True, 'return_train_score': True})]\n    132 \n    133     def __len__(self):\n    134         return self._size\n    135 \n\n...........................................................................\nC:\\Users\\elodi\\Anaconda3\\lib\\site-packages\\sklearn\\externals\\joblib\\parallel.py in <listcomp>(.0=<list_iterator object>)\n    126     def __init__(self, iterator_slice):\n    127         self.items = list(iterator_slice)\n    128         self._size = len(self.items)\n    129 \n    130     def __call__(self):\n--> 131         return [func(*args, **kwargs) for func, args, kwargs in self.items]\n        func = <function _fit_and_score>\n        args = (RandomForestClassifier(bootstrap=True, class_wei...te=None, verbose=0,\n            warm_start=False), memmap([[0.000e+00, 1.032e+03, 0.000e+00, ..., 0... ..., 0.000e+00, 0.000e+00,\n         0.000e+00]]), array(['smurf.', 'smurf.', 'smurf.', ..., 'normal.', 'neptune.', 'pod.'],\n      dtype=object), {'accuracy_score': make_scorer(accuracy_score), 'precision_score': make_scorer(precision_score), 'recall_score': make_scorer(recall_score)}, array([136980, 150907, 151167, ..., 345811, 345812, 345813]), array([     0,      1,      2, ..., 235067, 250337, 292781]), 0, {'criterion': 'gini', 'max_depth': 3, 'max_features': 3, 'min_samples_split': 3, 'n_estimators': 40})\n        kwargs = {'error_score': 'raise', 'fit_params': {}, 'return_n_test_samples': True, 'return_parameters': False, 'return_times': True, 'return_train_score': True}\n    132 \n    133     def __len__(self):\n    134         return self._size\n    135 \n\n...........................................................................\nC:\\Users\\elodi\\Anaconda3\\lib\\site-packages\\sklearn\\model_selection\\_validation.py in _fit_and_score(estimator=RandomForestClassifier(bootstrap=True, class_wei...te=None, verbose=0,\n            warm_start=False), X=memmap([[0.000e+00, 1.032e+03, 0.000e+00, ..., 0... ..., 0.000e+00, 0.000e+00,\n         0.000e+00]]), y=array(['smurf.', 'smurf.', 'smurf.', ..., 'normal.', 'neptune.', 'pod.'],\n      dtype=object), scorer={'accuracy_score': make_scorer(accuracy_score), 'precision_score': make_scorer(precision_score), 'recall_score': make_scorer(recall_score)}, train=array([136980, 150907, 151167, ..., 345811, 345812, 345813]), test=array([     0,      1,      2, ..., 235067, 250337, 292781]), verbose=0, parameters={'criterion': 'gini', 'max_depth': 3, 'max_features': 3, 'min_samples_split': 3, 'n_estimators': 40}, fit_params={}, return_train_score=True, return_parameters=False, return_n_test_samples=True, return_times=True, error_score='raise')\n    483                              \" make sure that it has been spelled correctly.)\")\n    484 \n    485     else:\n    486         fit_time = time.time() - start_time\n    487         # _score will return dict if is_multimetric is True\n--> 488         test_scores = _score(estimator, X_test, y_test, scorer, is_multimetric)\n        test_scores = {}\n        estimator = RandomForestClassifier(bootstrap=True, class_wei...te=None, verbose=0,\n            warm_start=False)\n        X_test = memmap([[0.000e+00, 1.032e+03, 0.000e+00, ..., 0... ..., 3.100e-01, 0.000e+00,\n         0.000e+00]])\n        y_test = array(['smurf.', 'smurf.', 'smurf.', ..., 'loadm...e.', 'loadmodule.',\n       'spy.'], dtype=object)\n        scorer = {'accuracy_score': make_scorer(accuracy_score), 'precision_score': make_scorer(precision_score), 'recall_score': make_scorer(recall_score)}\n        is_multimetric = True\n    489         score_time = time.time() - start_time - fit_time\n    490         if return_train_score:\n    491             train_scores = _score(estimator, X_train, y_train, scorer,\n    492                                   is_multimetric)\n\n...........................................................................\nC:\\Users\\elodi\\Anaconda3\\lib\\site-packages\\sklearn\\model_selection\\_validation.py in _score(estimator=RandomForestClassifier(bootstrap=True, class_wei...te=None, verbose=0,\n            warm_start=False), X_test=memmap([[0.000e+00, 1.032e+03, 0.000e+00, ..., 0... ..., 3.100e-01, 0.000e+00,\n         0.000e+00]]), y_test=array(['smurf.', 'smurf.', 'smurf.', ..., 'loadm...e.', 'loadmodule.',\n       'spy.'], dtype=object), scorer={'accuracy_score': make_scorer(accuracy_score), 'precision_score': make_scorer(precision_score), 'recall_score': make_scorer(recall_score)}, is_multimetric=True)\n    518 \n    519     Will return a single float if is_multimetric is False and a dict of floats,\n    520     if is_multimetric is True\n    521     \"\"\"\n    522     if is_multimetric:\n--> 523         return _multimetric_score(estimator, X_test, y_test, scorer)\n        estimator = RandomForestClassifier(bootstrap=True, class_wei...te=None, verbose=0,\n            warm_start=False)\n        X_test = memmap([[0.000e+00, 1.032e+03, 0.000e+00, ..., 0... ..., 3.100e-01, 0.000e+00,\n         0.000e+00]])\n        y_test = array(['smurf.', 'smurf.', 'smurf.', ..., 'loadm...e.', 'loadmodule.',\n       'spy.'], dtype=object)\n        scorer = {'accuracy_score': make_scorer(accuracy_score), 'precision_score': make_scorer(precision_score), 'recall_score': make_scorer(recall_score)}\n    524     else:\n    525         if y_test is None:\n    526             score = scorer(estimator, X_test)\n    527         else:\n\n...........................................................................\nC:\\Users\\elodi\\Anaconda3\\lib\\site-packages\\sklearn\\model_selection\\_validation.py in _multimetric_score(estimator=RandomForestClassifier(bootstrap=True, class_wei...te=None, verbose=0,\n            warm_start=False), X_test=memmap([[0.000e+00, 1.032e+03, 0.000e+00, ..., 0... ..., 3.100e-01, 0.000e+00,\n         0.000e+00]]), y_test=array(['smurf.', 'smurf.', 'smurf.', ..., 'loadm...e.', 'loadmodule.',\n       'spy.'], dtype=object), scorers={'accuracy_score': make_scorer(accuracy_score), 'precision_score': make_scorer(precision_score), 'recall_score': make_scorer(recall_score)})\n    548 \n    549     for name, scorer in scorers.items():\n    550         if y_test is None:\n    551             score = scorer(estimator, X_test)\n    552         else:\n--> 553             score = scorer(estimator, X_test, y_test)\n        score = undefined\n        scorer = make_scorer(precision_score)\n        estimator = RandomForestClassifier(bootstrap=True, class_wei...te=None, verbose=0,\n            warm_start=False)\n        X_test = memmap([[0.000e+00, 1.032e+03, 0.000e+00, ..., 0... ..., 3.100e-01, 0.000e+00,\n         0.000e+00]])\n        y_test = array(['smurf.', 'smurf.', 'smurf.', ..., 'loadm...e.', 'loadmodule.',\n       'spy.'], dtype=object)\n    554 \n    555         if hasattr(score, 'item'):\n    556             try:\n    557                 # e.g. unwrap memmapped scalars\n\n...........................................................................\nC:\\Users\\elodi\\Anaconda3\\lib\\site-packages\\sklearn\\metrics\\scorer.py in __call__(self=make_scorer(precision_score), estimator=RandomForestClassifier(bootstrap=True, class_wei...te=None, verbose=0,\n            warm_start=False), X=memmap([[0.000e+00, 1.032e+03, 0.000e+00, ..., 0... ..., 3.100e-01, 0.000e+00,\n         0.000e+00]]), y_true=array(['smurf.', 'smurf.', 'smurf.', ..., 'loadm...e.', 'loadmodule.',\n       'spy.'], dtype=object), sample_weight=None)\n    103             return self._sign * self._score_func(y_true, y_pred,\n    104                                                  sample_weight=sample_weight,\n    105                                                  **self._kwargs)\n    106         else:\n    107             return self._sign * self._score_func(y_true, y_pred,\n--> 108                                                  **self._kwargs)\n        self._kwargs = {}\n    109 \n    110 \n    111 class _ProbaScorer(_BaseScorer):\n    112     def __call__(self, clf, X, y, sample_weight=None):\n\n...........................................................................\nC:\\Users\\elodi\\Anaconda3\\lib\\site-packages\\sklearn\\metrics\\classification.py in precision_score(y_true=array(['smurf.', 'smurf.', 'smurf.', ..., 'loadm...e.', 'loadmodule.',\n       'spy.'], dtype=object), y_pred=array(['smurf.', 'smurf.', 'smurf.', ..., 'normal.', 'normal.', 'normal.'],\n      dtype=object), labels=None, pos_label=1, average='binary', sample_weight=None)\n   1256     p, _, _, _ = precision_recall_fscore_support(y_true, y_pred,\n   1257                                                  labels=labels,\n   1258                                                  pos_label=pos_label,\n   1259                                                  average=average,\n   1260                                                  warn_for=('precision',),\n-> 1261                                                  sample_weight=sample_weight)\n        sample_weight = None\n   1262     return p\n   1263 \n   1264 \n   1265 def recall_score(y_true, y_pred, labels=None, pos_label=1, average='binary',\n\n...........................................................................\nC:\\Users\\elodi\\Anaconda3\\lib\\site-packages\\sklearn\\metrics\\classification.py in precision_recall_fscore_support(y_true=array(['smurf.', 'smurf.', 'smurf.', ..., 'loadm...e.', 'loadmodule.',\n       'spy.'], dtype=object), y_pred=array(['smurf.', 'smurf.', 'smurf.', ..., 'normal.', 'normal.', 'normal.'],\n      dtype=object), beta=1.0, labels=None, pos_label=1, average='binary', warn_for=('precision',), sample_weight=None)\n   1035                     raise ValueError(\"pos_label=%r is not a valid label: %r\" %\n   1036                                      (pos_label, present_labels))\n   1037             labels = [pos_label]\n   1038         else:\n   1039             raise ValueError(\"Target is %s but average='binary'. Please \"\n-> 1040                              \"choose another average setting.\" % y_type)\n        y_type = 'multiclass'\n   1041     elif pos_label not in (None, 1):\n   1042         warnings.warn(\"Note that pos_label (set to %r) is ignored when \"\n   1043                       \"average != 'binary' (got %r). You may use \"\n   1044                       \"labels=[pos_label] to specify a single positive class.\"\n\nValueError: Target is multiclass but average='binary'. Please choose another average setting.\n___________________________________________________________________________"
     ]
    }
   ],
   "source": [
    "clf = RandomForestClassifier(n_jobs = -1)\n",
    "\n",
    "param_grid = {\n",
    "    \"min_samples_split\": [3, 5], #10\n",
    "    \"n_estimators\": [40, 50], #56\n",
    "    \"max_depth\": [3, 5, 10], #12\n",
    "    \"max_features\": [3, 18], #10\n",
    "    \"criterion\": [\"gini\", \"entropy\"]    \n",
    "}\n",
    "\n",
    "scorers = {\n",
    "    \"precision_score\": make_scorer(precision_score), \n",
    "    \"recall_score\":make_scorer(recall_score),\n",
    "    \"accuracy_score\":make_scorer(accuracy_score)\n",
    "}\n",
    "\n",
    "skf = StratifiedKFold(n_splits = 2)\n",
    "\n",
    "grid_search = GridSearchCV(clf, \n",
    "                           param_grid, \n",
    "                           scoring = scorers, \n",
    "                           refit=\"precision_score\", \n",
    "                           cv=skf, \n",
    "                           return_train_score=True, \n",
    "                           n_jobs=-1)\n",
    "\n",
    "grid_search.fit(X_train.values, Y_train.values)\n",
    "y_pred = grid_search.predict(X_test.values)\n",
    "#print('Best params for {}'.format(refit_score))\n",
    "print(grid_search.best_params_)\n",
    "\n",
    "results = pd.DataFrame()\n",
    "print(results)\n",
    "print(grid_search.best_score_)"
   ]
  },
  {
   "cell_type": "code",
   "execution_count": null,
   "metadata": {},
   "outputs": [],
   "source": []
  },
  {
   "cell_type": "code",
   "execution_count": null,
   "metadata": {},
   "outputs": [],
   "source": []
  },
  {
   "cell_type": "markdown",
   "metadata": {},
   "source": [
    "# Courbe ROC"
   ]
  },
  {
   "cell_type": "code",
   "execution_count": null,
   "metadata": {},
   "outputs": [],
   "source": [
    "import matplotlib.pyplot as plt\n",
    "from sklearn.metrics import roc_curve, auc, roc_auc_score"
   ]
  },
  {
   "cell_type": "code",
   "execution_count": null,
   "metadata": {},
   "outputs": [],
   "source": [
    "roc_auc_score(Y_test, rep)"
   ]
  },
  {
   "cell_type": "code",
   "execution_count": null,
   "metadata": {},
   "outputs": [],
   "source": [
    "from sklearn import metrics\n",
    "probs = modele.predict_proba(X_test)\n",
    "preds = probs[:,1]\n",
    "fpr, tpr, threshold = roc_curve(Y_test, preds)\n",
    "roc_auc = metrics.auc(fpr, tpr)\n",
    "\n",
    "# method I: plt\n",
    "import matplotlib.pyplot as plt\n",
    "plt.title('Receiver Operating Characteristic')\n",
    "plt.plot(fpr, tpr, 'b', label = 'AUC = %0.2f' % roc_auc)\n",
    "plt.legend(loc = 'lower right')\n",
    "plt.plot([0, 1], [0, 1],'r--')\n",
    "plt.xlim([0, 1])\n",
    "plt.ylim([0, 1])\n",
    "plt.ylabel('True Positive Rate')\n",
    "plt.xlabel('False Positive Rate')\n",
    "plt.show()\n",
    "\n",
    "# method II: ggplot\n",
    "from ggplot import *\n",
    "df = pd.DataFrame(dict(fpr = fpr, tpr = tpr))\n",
    "ggplot(df, aes(x = 'fpr', y = 'tpr')) + geom_line() + geom_abline(linetype = 'dashed')"
   ]
  },
  {
   "cell_type": "markdown",
   "metadata": {},
   "source": [
    "Probleme de multiclass il faut faire sur un seul truc et pas sur plusieurs ou alors macroavreging"
   ]
  },
  {
   "cell_type": "code",
   "execution_count": null,
   "metadata": {},
   "outputs": [],
   "source": [
    "from sklearn.metrics import roc_curve, auc\n",
    "from sklearn.multiclass import OneVsRestClassifier\n",
    "from sklearn.preprocessing import label_binarize\n",
    "from sklearn.cross_validation import train_test_split\n",
    "import matplotlib.pyplot as plt\n",
    "\n",
    "# Compute ROC curve and ROC area for each class\n",
    "fpr = dict()\n",
    "tpr = dict()\n",
    "roc_auc = dict()\n",
    "for i in range(n_classes):\n",
    "    fpr[i], tpr[i], _ = roc_curve(Y_test[:, i], rep[:, i])\n",
    "    roc_auc[i] = auc(fpr[i], tpr[i])\n",
    "\n",
    "# Plot of a ROC curve for a specific class\n",
    "for i in range(n_classes):\n",
    "    plt.figure()\n",
    "    plt.plot(fpr[i], tpr[i], label='ROC curve (area = %0.2f)' % roc_auc[i])\n",
    "    plt.plot([0, 1], [0, 1], 'k--')\n",
    "    plt.xlim([0.0, 1.0])\n",
    "    plt.ylim([0.0, 1.05])\n",
    "    plt.xlabel('False Positive Rate')\n",
    "    plt.ylabel('True Positive Rate')\n",
    "    plt.title('Receiver operating characteristic example')\n",
    "    plt.legend(loc=\"lower right\")\n",
    "    plt.show()"
   ]
  },
  {
   "cell_type": "code",
   "execution_count": 63,
   "metadata": {},
   "outputs": [],
   "source": [
    "df_normal = pd.concat([X, pd.DataFrame(pd.get_dummies(df['type'])['normal.'])], axis = 1)"
   ]
  },
  {
   "cell_type": "code",
   "execution_count": 64,
   "metadata": {},
   "outputs": [],
   "source": [
    "df_smurf = pd.concat([X, pd.DataFrame(pd.get_dummies(df['type'])['smurf.'])], axis = 1)"
   ]
  },
  {
   "cell_type": "code",
   "execution_count": 65,
   "metadata": {},
   "outputs": [],
   "source": [
    "df_neptune = pd.concat([X, pd.DataFrame(pd.get_dummies(df['type'])['neptune.'])], axis = 1)"
   ]
  },
  {
   "cell_type": "code",
   "execution_count": 66,
   "metadata": {},
   "outputs": [],
   "source": [
    "df_back = pd.concat([X, pd.DataFrame(pd.get_dummies(df['type'])['back.'])], axis = 1)"
   ]
  },
  {
   "cell_type": "code",
   "execution_count": null,
   "metadata": {},
   "outputs": [],
   "source": []
  },
  {
   "cell_type": "code",
   "execution_count": null,
   "metadata": {},
   "outputs": [],
   "source": [
    "algo = RandomForestClassifier(**hyperparametres)\n",
    "modele = algo.fit(X_train, Y_train)"
   ]
  },
  {
   "cell_type": "code",
   "execution_count": null,
   "metadata": {},
   "outputs": [],
   "source": []
  }
 ],
 "metadata": {
  "kernelspec": {
   "display_name": "Python 3",
   "language": "python",
   "name": "python3"
  },
  "language_info": {
   "codemirror_mode": {
    "name": "ipython",
    "version": 3
   },
   "file_extension": ".py",
   "mimetype": "text/x-python",
   "name": "python",
   "nbconvert_exporter": "python",
   "pygments_lexer": "ipython3",
   "version": "3.6.5"
  }
 },
 "nbformat": 4,
 "nbformat_minor": 2
}
